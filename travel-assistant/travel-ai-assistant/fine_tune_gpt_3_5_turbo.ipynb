{
  "cells": [
    {
      "cell_type": "markdown",
      "id": "6f49cb10-f895-41f4-aa97-da606d0084d4",
      "metadata": {
        "id": "6f49cb10-f895-41f4-aa97-da606d0084d4"
      },
      "source": [
        "## Setup"
      ]
    },
    {
      "cell_type": "code",
      "execution_count": null,
      "id": "32036e70",
      "metadata": {
        "colab": {
          "base_uri": "https://localhost:8080/"
        },
        "id": "32036e70",
        "outputId": "7a937499-120c-4c44-afbf-1ad7c0a7157c"
      },
      "outputs": [
        {
          "name": "stdout",
          "output_type": "stream",
          "text": [
            "Collecting openai\n",
            "  Downloading openai-0.28.1-py3-none-any.whl (76 kB)\n",
            "\u001b[2K     \u001b[90m━━━━━━━━━━━━━━━━━━━━━━━━━━━━━━━━━━━━━━━━\u001b[0m \u001b[32m77.0/77.0 kB\u001b[0m \u001b[31m3.5 MB/s\u001b[0m eta \u001b[36m0:00:00\u001b[0m\n",
            "\u001b[?25hCollecting datasets\n",
            "  Downloading datasets-2.14.5-py3-none-any.whl (519 kB)\n",
            "\u001b[2K     \u001b[90m━━━━━━━━━━━━━━━━━━━━━━━━━━━━━━━━━━━━━━\u001b[0m \u001b[32m519.6/519.6 kB\u001b[0m \u001b[31m27.7 MB/s\u001b[0m eta \u001b[36m0:00:00\u001b[0m\n",
            "\u001b[?25hRequirement already satisfied: requests>=2.20 in /usr/local/lib/python3.10/dist-packages (from openai) (2.31.0)\n",
            "Requirement already satisfied: tqdm in /usr/local/lib/python3.10/dist-packages (from openai) (4.66.1)\n",
            "Requirement already satisfied: aiohttp in /usr/local/lib/python3.10/dist-packages (from openai) (3.8.5)\n",
            "Requirement already satisfied: numpy>=1.17 in /usr/local/lib/python3.10/dist-packages (from datasets) (1.23.5)\n",
            "Requirement already satisfied: pyarrow>=8.0.0 in /usr/local/lib/python3.10/dist-packages (from datasets) (9.0.0)\n",
            "Collecting dill<0.3.8,>=0.3.0 (from datasets)\n",
            "  Downloading dill-0.3.7-py3-none-any.whl (115 kB)\n",
            "\u001b[2K     \u001b[90m━━━━━━━━━━━━━━━━━━━━━━━━━━━━━━━━━━━━━━\u001b[0m \u001b[32m115.3/115.3 kB\u001b[0m \u001b[31m17.1 MB/s\u001b[0m eta \u001b[36m0:00:00\u001b[0m\n",
            "\u001b[?25hRequirement already satisfied: pandas in /usr/local/lib/python3.10/dist-packages (from datasets) (1.5.3)\n",
            "Collecting xxhash (from datasets)\n",
            "  Downloading xxhash-3.3.0-cp310-cp310-manylinux_2_17_x86_64.manylinux2014_x86_64.whl (194 kB)\n",
            "\u001b[2K     \u001b[90m━━━━━━━━━━━━━━━━━━━━━━━━━━━━━━━━━━━━━━\u001b[0m \u001b[32m194.1/194.1 kB\u001b[0m \u001b[31m22.3 MB/s\u001b[0m eta \u001b[36m0:00:00\u001b[0m\n",
            "\u001b[?25hCollecting multiprocess (from datasets)\n",
            "  Downloading multiprocess-0.70.15-py310-none-any.whl (134 kB)\n",
            "\u001b[2K     \u001b[90m━━━━━━━━━━━━━━━━━━━━━━━━━━━━━━━━━━━━━━\u001b[0m \u001b[32m134.8/134.8 kB\u001b[0m \u001b[31m17.3 MB/s\u001b[0m eta \u001b[36m0:00:00\u001b[0m\n",
            "\u001b[?25hRequirement already satisfied: fsspec[http]<2023.9.0,>=2023.1.0 in /usr/local/lib/python3.10/dist-packages (from datasets) (2023.6.0)\n",
            "Collecting huggingface-hub<1.0.0,>=0.14.0 (from datasets)\n",
            "  Downloading huggingface_hub-0.17.2-py3-none-any.whl (294 kB)\n",
            "\u001b[2K     \u001b[90m━━━━━━━━━━━━━━━━━━━━━━━━━━━━━━━━━━━━━━\u001b[0m \u001b[32m294.9/294.9 kB\u001b[0m \u001b[31m37.7 MB/s\u001b[0m eta \u001b[36m0:00:00\u001b[0m\n",
            "\u001b[?25hRequirement already satisfied: packaging in /usr/local/lib/python3.10/dist-packages (from datasets) (23.1)\n",
            "Requirement already satisfied: pyyaml>=5.1 in /usr/local/lib/python3.10/dist-packages (from datasets) (6.0.1)\n",
            "Requirement already satisfied: attrs>=17.3.0 in /usr/local/lib/python3.10/dist-packages (from aiohttp->openai) (23.1.0)\n",
            "Requirement already satisfied: charset-normalizer<4.0,>=2.0 in /usr/local/lib/python3.10/dist-packages (from aiohttp->openai) (3.2.0)\n",
            "Requirement already satisfied: multidict<7.0,>=4.5 in /usr/local/lib/python3.10/dist-packages (from aiohttp->openai) (6.0.4)\n",
            "Requirement already satisfied: async-timeout<5.0,>=4.0.0a3 in /usr/local/lib/python3.10/dist-packages (from aiohttp->openai) (4.0.3)\n",
            "Requirement already satisfied: yarl<2.0,>=1.0 in /usr/local/lib/python3.10/dist-packages (from aiohttp->openai) (1.9.2)\n",
            "Requirement already satisfied: frozenlist>=1.1.1 in /usr/local/lib/python3.10/dist-packages (from aiohttp->openai) (1.4.0)\n",
            "Requirement already satisfied: aiosignal>=1.1.2 in /usr/local/lib/python3.10/dist-packages (from aiohttp->openai) (1.3.1)\n",
            "Requirement already satisfied: filelock in /usr/local/lib/python3.10/dist-packages (from huggingface-hub<1.0.0,>=0.14.0->datasets) (3.12.2)\n",
            "Requirement already satisfied: typing-extensions>=3.7.4.3 in /usr/local/lib/python3.10/dist-packages (from huggingface-hub<1.0.0,>=0.14.0->datasets) (4.5.0)\n",
            "Requirement already satisfied: idna<4,>=2.5 in /usr/local/lib/python3.10/dist-packages (from requests>=2.20->openai) (3.4)\n",
            "Requirement already satisfied: urllib3<3,>=1.21.1 in /usr/local/lib/python3.10/dist-packages (from requests>=2.20->openai) (2.0.4)\n",
            "Requirement already satisfied: certifi>=2017.4.17 in /usr/local/lib/python3.10/dist-packages (from requests>=2.20->openai) (2023.7.22)\n",
            "Requirement already satisfied: python-dateutil>=2.8.1 in /usr/local/lib/python3.10/dist-packages (from pandas->datasets) (2.8.2)\n",
            "Requirement already satisfied: pytz>=2020.1 in /usr/local/lib/python3.10/dist-packages (from pandas->datasets) (2023.3.post1)\n",
            "Requirement already satisfied: six>=1.5 in /usr/local/lib/python3.10/dist-packages (from python-dateutil>=2.8.1->pandas->datasets) (1.16.0)\n",
            "Installing collected packages: xxhash, dill, multiprocess, huggingface-hub, openai, datasets\n",
            "Successfully installed datasets-2.14.5 dill-0.3.7 huggingface-hub-0.17.2 multiprocess-0.70.15 openai-0.28.1 xxhash-3.3.0\n"
          ]
        }
      ],
      "source": [
        "# make sure to use the latest version of the openai python package\n",
        "%pip install --upgrade openai datasets"
      ]
    },
    {
      "cell_type": "code",
      "execution_count": null,
      "id": "f57ebc23-14b7-47f9-90b8-1d791ccfc9bc",
      "metadata": {
        "colab": {
          "base_uri": "https://localhost:8080/",
          "height": 145,
          "referenced_widgets": [
            "027c64758d47480eb5890c7f7384f0bc",
            "ef1bfb119d1c4173baa18aa967623679",
            "6e8075322dd64b26a036c521750a705e",
            "726c90fe100a4375acbf3b9ce5b277c0",
            "531144341552441c953442f2ecf74d9c",
            "268a4259a23443b7912f98f591612047",
            "cf1c28709388492ab87566c9ffc1c05b",
            "b8733f2a499840ecbb3463ed5a22058e",
            "7c0bd08ea6ec44eba35720326a137066",
            "dd31ee682ae6422e9fe9eaa6a0c09a85",
            "848fcd08540344089c361b0e9c556ff7",
            "d69dc1589ba64c8ea15051f80d39ed35",
            "7bbba6ddde6f4b219cd2c5efb72ed828",
            "bf6cd62e1fa149e4891fea38b36ffae8",
            "1ae8414db37545a4a648b2d451ad5394",
            "a67044cac5f54bb1989321c6898e42e1",
            "b62b7f68c71c491f82eeb1e306b16ee4",
            "ecd0e2c1d84e4e60b493c8b84e0ce479",
            "b3cc887b175847e6be4f62de2ebf9422",
            "06e7a3b441c94ecbb4c64a237b3eb151",
            "96a0a0ccf015435cb2449a672597d0a1",
            "a175fb1dbd51458d84ea06f19cc780a1",
            "3b2139230ab840cf88bfa295d0ae3678",
            "044d74c18f484e9183fdb120bf71a20b",
            "76bfb2a0e59847d5bff902c5fa8b48ac",
            "e776519e8adf4dd1ab552f1c5f299e19",
            "7179d3d8e7ff49e3b6f8cb067f257736",
            "0bb36582ba534e9f84ba39e618b52feb",
            "d295fcf4b3284d36b43fb083f95fede8",
            "5f6776a9e1704eef998ff2463e08f511",
            "d634376cc7f64f148644012acc5e47b4",
            "c128f05d5e4f4a32b81e4ac2c4bcc979",
            "489feeda587c44efa76136ddf7086676",
            "eff7d5dffb184f1d9d33fa0e09311728",
            "feb4bbfb3c4d43c6a0b4fa163fe9d590",
            "9fa5eec2c99944bf816933dae2408829",
            "1875717b28fb4b388298b5b7065b7701",
            "9adc2409bc2c4ec399ca82a871ba099b",
            "f1676223284b493c9b33b8a92ea0d75e",
            "69be1c25e06c48a5b805b1fd748446ec",
            "8475b6ff2c62464596bce1b290093ac9",
            "aa3fc171f8af48c8bf8ce4109a4cbb1b",
            "b3dd006948da499da0808f659e426c05",
            "999dd2fe31424908bc8f7e1acdb8b4a2"
          ]
        },
        "id": "f57ebc23-14b7-47f9-90b8-1d791ccfc9bc",
        "outputId": "e1676dbe-18e7-4bc7-9400-7e012ea7a98c"
      },
      "outputs": [
        {
          "data": {
            "application/vnd.jupyter.widget-view+json": {
              "model_id": "027c64758d47480eb5890c7f7384f0bc",
              "version_major": 2,
              "version_minor": 0
            },
            "text/plain": [
              "Downloading data files:   0%|          | 0/1 [00:00<?, ?it/s]"
            ]
          },
          "metadata": {},
          "output_type": "display_data"
        },
        {
          "data": {
            "application/vnd.jupyter.widget-view+json": {
              "model_id": "d69dc1589ba64c8ea15051f80d39ed35",
              "version_major": 2,
              "version_minor": 0
            },
            "text/plain": [
              "Downloading data:   0%|          | 0.00/27.7k [00:00<?, ?B/s]"
            ]
          },
          "metadata": {},
          "output_type": "display_data"
        },
        {
          "data": {
            "application/vnd.jupyter.widget-view+json": {
              "model_id": "3b2139230ab840cf88bfa295d0ae3678",
              "version_major": 2,
              "version_minor": 0
            },
            "text/plain": [
              "Extracting data files:   0%|          | 0/1 [00:00<?, ?it/s]"
            ]
          },
          "metadata": {},
          "output_type": "display_data"
        },
        {
          "data": {
            "application/vnd.jupyter.widget-view+json": {
              "model_id": "eff7d5dffb184f1d9d33fa0e09311728",
              "version_major": 2,
              "version_minor": 0
            },
            "text/plain": [
              "Generating train split: 0 examples [00:00, ? examples/s]"
            ]
          },
          "metadata": {},
          "output_type": "display_data"
        }
      ],
      "source": [
        "from datasets import load_dataset\n",
        "\n",
        "ds = load_dataset(\"thanhnew2001/travel\",split=\"train\")"
      ]
    },
    {
      "cell_type": "code",
      "execution_count": null,
      "id": "x4aVWO1kg3o-",
      "metadata": {
        "colab": {
          "base_uri": "https://localhost:8080/"
        },
        "id": "x4aVWO1kg3o-",
        "outputId": "cf6338f8-ed33-484d-eea9-4f9ca92c2f75"
      },
      "outputs": [
        {
          "data": {
            "text/plain": [
              "103"
            ]
          },
          "execution_count": 3,
          "metadata": {},
          "output_type": "execute_result"
        }
      ],
      "source": [
        "len(ds)"
      ]
    },
    {
      "cell_type": "code",
      "execution_count": null,
      "id": "u2YS-Yxeg34o",
      "metadata": {
        "colab": {
          "base_uri": "https://localhost:8080/"
        },
        "id": "u2YS-Yxeg34o",
        "outputId": "48378634-e76c-4c42-89a2-3c4613e4eab1"
      },
      "outputs": [
        {
          "data": {
            "text/plain": [
              "{'question': 'Điểm đến nào là điểm du lịch phổ biến nhất ở Việt Nam?',\n",
              " 'answer': 'Hạ Long Bay là một trong những điểm đến du lịch phổ biến nhất ở Việt Nam với cảnh quan tuyệt đẹp của các hòn đảo và vịnh biển.'}"
            ]
          },
          "execution_count": 4,
          "metadata": {},
          "output_type": "execute_result"
        }
      ],
      "source": [
        "ds[0]"
      ]
    },
    {
      "cell_type": "code",
      "execution_count": null,
      "id": "9a8216b0-d1dc-472d-b07d-1be03acd70a5",
      "metadata": {
        "id": "9a8216b0-d1dc-472d-b07d-1be03acd70a5"
      },
      "outputs": [],
      "source": [
        "ds_formatted = [\n",
        "    {\"messages\": [\n",
        "        {\"role\": \"system\", \"content\": \"You are AI Assistant that tailors vacation plans. Please reply user requests using polite and respectful language.\"},\n",
        "        {'role': 'user', 'content': x[\"question\"]},\n",
        "        {'role': 'assistant', 'content': x[\"answer\"]}]} for x in ds\n",
        "]"
      ]
    },
    {
      "cell_type": "code",
      "execution_count": null,
      "id": "EygOId8aGUMG",
      "metadata": {
        "colab": {
          "base_uri": "https://localhost:8080/"
        },
        "id": "EygOId8aGUMG",
        "outputId": "f7720bea-6140-487b-beeb-69912119ae43"
      },
      "outputs": [
        {
          "data": {
            "text/plain": [
              "{'messages': [{'role': 'system',\n",
              "   'content': 'You are AI Assistant that tailors vacation plans. Please reply user requests using polite and respectful language.'},\n",
              "  {'role': 'user',\n",
              "   'content': 'Điểm đến nào ở Việt Nam nổi tiếng với các làng nghề truyền thống?'},\n",
              "  {'role': 'assistant',\n",
              "   'content': 'Làng Gò Công nổi tiếng ở Tiền Giang với nghề làm bánh tráng, và làng nghề Đông Hồ nổi tiếng ở Bắc Ninh với tranh'}]}"
            ]
          },
          "execution_count": 7,
          "metadata": {},
          "output_type": "execute_result"
        }
      ],
      "source": [
        "ds_formatted[0]"
      ]
    },
    {
      "cell_type": "code",
      "execution_count": null,
      "id": "asgcQkcBGYY2",
      "metadata": {
        "id": "asgcQkcBGYY2"
      },
      "outputs": [],
      "source": [
        "import random\n",
        "random.shuffle(ds_formatted)"
      ]
    },
    {
      "cell_type": "code",
      "execution_count": null,
      "id": "uSCrpAG7GeVg",
      "metadata": {
        "id": "uSCrpAG7GeVg"
      },
      "outputs": [],
      "source": [
        "ds_train = ds_formatted[:80]\n",
        "ds_val = ds_formatted[80:]"
      ]
    },
    {
      "cell_type": "code",
      "execution_count": null,
      "id": "r66evO4UGUXk",
      "metadata": {
        "id": "r66evO4UGUXk"
      },
      "outputs": [],
      "source": [
        "import json\n",
        "\n",
        "with open('train.jsonl', 'w') as f:\n",
        "    for line in ds_train:\n",
        "        json.dump(line, f)\n",
        "        f.write('\\n')\n",
        "\n",
        "with open('val.jsonl', 'w') as f:\n",
        "    for line in ds_val:\n",
        "        json.dump(line, f)\n",
        "        f.write('\\n')"
      ]
    },
    {
      "cell_type": "code",
      "execution_count": null,
      "id": "s_6RpM2DGher",
      "metadata": {
        "colab": {
          "base_uri": "https://localhost:8080/"
        },
        "id": "s_6RpM2DGher",
        "outputId": "fcff1b38-e3f0-4a82-bc74-bc6e5c88e6f1"
      },
      "outputs": [
        {
          "name": "stdout",
          "output_type": "stream",
          "text": [
            "\u001b[0m\u001b[01;34msample_data\u001b[0m/  train.jsonl  val.jsonl\n"
          ]
        }
      ],
      "source": [
        "ls"
      ]
    },
    {
      "cell_type": "code",
      "execution_count": null,
      "id": "5MkUhcVzGnNM",
      "metadata": {
        "colab": {
          "base_uri": "https://localhost:8080/"
        },
        "id": "5MkUhcVzGnNM",
        "outputId": "9c706fac-2f59-4203-88c7-0e310239f9d4"
      },
      "outputs": [
        {
          "name": "stdout",
          "output_type": "stream",
          "text": [
            "{\"messages\": [{\"role\": \"system\", \"content\": \"You are AI Assistant that tailors vacation plans. Please reply user requests using polite and respectful language.\"}, {\"role\": \"user\", \"content\": \"Lo\\u1ea1i h\\u00ecnh du l\\u1ecbch g\\u00ec t\\u1eadp trung v\\u00e0o vi\\u1ec7c tham gia v\\u00e0o c\\u00e1c ho\\u1ea1t \\u0111\\u1ed9ng th\\u1ec3 thao v\\u00e0 gi\\u1ea3i tr\\u00ed ngo\\u00e0i tr\\u1eddi?\"}, {\"role\": \"assistant\", \"content\": \"Du l\\u1ecbch gi\\u1ea3i tr\\u00ed l\\u00e0 lo\\u1ea1i h\\u00ecnh du l\\u1ecbch t\\u1eadp trung v\\u00e0o vi\\u1ec7c tham gia v\\u00e0o c\\u00e1c ho\\u1ea1t \\u0111\\u1ed9ng th\\u1ec3 thao v\\u00e0 gi\\u1ea3i tr\\u00ed ngo\\u00e0i tr\\u1eddi nh\\u01b0 golf, c\\u00e2u c\\u00e1, hay d\\u1ea1o ch\\u01a1i.\"}]}\n",
            "{\"messages\": [{\"role\": \"system\", \"content\": \"You are AI Assistant that tailors vacation plans. Please reply user requests using polite and respectful language.\"}, {\"role\": \"user\", \"content\": \"\\u0110i\\u1ec3m \\u0111\\u1ebfn n\\u00e0o \\u1edf Vi\\u1ec7t Nam n\\u1ed5i ti\\u1ebfng v\\u1edbi c\\u00e1c khu ch\\u1ee3 \\u0111\\u00eam s\\u1ea7m u\\u1ea5t?\"}, {\"role\": \"assistant\", \"content\": \"Th\\u00e0nh ph\\u1ed1 \\u0110\\u00e0 L\\u1ea1t c\\u00f3 c\\u00e1c khu ch\\u1ee3 \\u0111\\u00eam nh\\u01b0 Ch\\u1ee3 \\u0110\\u00eam \\u0110\\u00e0 L\\u1ea1t v\\u1edbi nhi\\u1ec1u s\\u1ea3n ph\\u1ea9m \\u0111\\u1ed9c \\u0111\\u00e1o v\\u00e0 \\u0111\\u1eb7c s\\u1ea3n \\u0111\\u1ecba ph\\u01b0\\u01a1ng.\"}]}\n"
          ]
        }
      ],
      "source": [
        "!head -n 2 train.jsonl"
      ]
    },
    {
      "cell_type": "code",
      "execution_count": null,
      "id": "HGsehXx9GnRG",
      "metadata": {
        "colab": {
          "base_uri": "https://localhost:8080/"
        },
        "id": "HGsehXx9GnRG",
        "outputId": "17529b1b-3fca-4382-cc3e-28d5ba639f05"
      },
      "outputs": [
        {
          "name": "stdout",
          "output_type": "stream",
          "text": [
            "{\"messages\": [{\"role\": \"system\", \"content\": \"You are AI Assistant that tailors vacation plans. Please reply user requests using polite and respectful language.\"}, {\"role\": \"user\", \"content\": \"Th\\u00e0nh ph\\u1ed1 n\\u00e0o \\u1edf Vi\\u1ec7t Nam n\\u1ed5i ti\\u1ebfng v\\u1edbi c\\u00e1c con s\\u00f4ng v\\u00e0 c\\u1ea7u b\\u1eafc qua?\"}, {\"role\": \"assistant\", \"content\": \"Th\\u00e0nh ph\\u1ed1 C\\u1ea7n Th\\u01a1 n\\u1ed5i ti\\u1ebfng v\\u1edbi c\\u00e1c con s\\u00f4ng nh\\u01b0 s\\u00f4ng H\\u1eadu v\\u00e0 c\\u00e1c c\\u1ea7u b\\u1eafc qua nh\\u01b0 c\\u1ea7u C\\u00e1i R\\u0103ng.\"}]}\n",
            "{\"messages\": [{\"role\": \"system\", \"content\": \"You are AI Assistant that tailors vacation plans. Please reply user requests using polite and respectful language.\"}, {\"role\": \"user\", \"content\": \"L\\u00e0m th\\u1ebf n\\u00e0o \\u0111\\u1ec3 di chuy\\u1ec3n t\\u1eeb s\\u00e2n bay \\u0111\\u1ebfn trung t\\u00e2m th\\u00e0nh ph\\u1ed1 Tokyo?\"}, {\"role\": \"assistant\", \"content\": \"B\\u1ea1n c\\u00f3 th\\u1ec3 s\\u1eed d\\u1ee5ng t\\u00e0u \\u0111i\\u1ec7n ng\\u1ea7m Narita Express ho\\u1eb7c c\\u00e1c d\\u1ecbch v\\u1ee5 xe bus \\u0111\\u1ec3 \\u0111\\u1ebfn trung t\\u00e2m th\\u00e0nh ph\\u1ed1 Tokyo t\\u1eeb s\\u00e2n bay Narita.\"}]}\n"
          ]
        }
      ],
      "source": [
        "!head -n 2 val.jsonl"
      ]
    },
    {
      "cell_type": "code",
      "execution_count": null,
      "id": "HdK-2MuqGsEl",
      "metadata": {
        "id": "HdK-2MuqGsEl"
      },
      "outputs": [],
      "source": [
        "import openai\n",
        "\n",
        "openai.api_key = 'API_KEY'\n"
      ]
    },
    {
      "cell_type": "code",
      "execution_count": null,
      "id": "dC09m52wGsJM",
      "metadata": {
        "colab": {
          "base_uri": "https://localhost:8080/"
        },
        "id": "dC09m52wGsJM",
        "outputId": "59dadf81-67b5-4176-e06e-35157a69b1b7"
      },
      "outputs": [
        {
          "data": {
            "text/plain": [
              "<File file id=file-UNPf8KlXWpN5eP81GgsxprB5 at 0x7903d30cb1f0> JSON: {\n",
              "  \"object\": \"file\",\n",
              "  \"id\": \"file-UNPf8KlXWpN5eP81GgsxprB5\",\n",
              "  \"purpose\": \"fine-tune\",\n",
              "  \"filename\": \"file\",\n",
              "  \"bytes\": 48495,\n",
              "  \"created_at\": 1695715650,\n",
              "  \"status\": \"uploaded\",\n",
              "  \"status_details\": null\n",
              "}"
            ]
          },
          "execution_count": 15,
          "metadata": {},
          "output_type": "execute_result"
        }
      ],
      "source": [
        "# Upload training data\n",
        "train = openai.File.create(\n",
        "  file=open(\"train.jsonl\", \"rb\"),\n",
        "  purpose='fine-tune'\n",
        ")\n",
        "train"
      ]
    },
    {
      "cell_type": "code",
      "execution_count": null,
      "id": "yhKIjZ6AG3Z8",
      "metadata": {
        "id": "yhKIjZ6AG3Z8"
      },
      "outputs": [],
      "source": [
        "train_id = train['id']"
      ]
    },
    {
      "cell_type": "code",
      "execution_count": null,
      "id": "Jzga4weQG3eG",
      "metadata": {
        "colab": {
          "base_uri": "https://localhost:8080/"
        },
        "id": "Jzga4weQG3eG",
        "outputId": "ca48c1b6-65e5-4629-f584-fa34d6c6ce7f"
      },
      "outputs": [
        {
          "data": {
            "text/plain": [
              "<File file id=file-Wz1zMLcDzXTqD8U7TZDPnhAF at 0x7903dc3a5080> JSON: {\n",
              "  \"object\": \"file\",\n",
              "  \"id\": \"file-Wz1zMLcDzXTqD8U7TZDPnhAF\",\n",
              "  \"purpose\": \"fine-tune\",\n",
              "  \"filename\": \"file\",\n",
              "  \"bytes\": 13954,\n",
              "  \"created_at\": 1695715656,\n",
              "  \"status\": \"uploaded\",\n",
              "  \"status_details\": null\n",
              "}"
            ]
          },
          "execution_count": 17,
          "metadata": {},
          "output_type": "execute_result"
        }
      ],
      "source": [
        "# Upload validation data\n",
        "val = openai.File.create(\n",
        "  file=open(\"val.jsonl\", \"rb\"),\n",
        "  purpose='fine-tune'\n",
        ")\n",
        "val"
      ]
    },
    {
      "cell_type": "code",
      "execution_count": null,
      "id": "SrlqgJrIlJNv",
      "metadata": {
        "id": "SrlqgJrIlJNv"
      },
      "outputs": [],
      "source": [
        "val_id = val['id']"
      ]
    },
    {
      "cell_type": "markdown",
      "id": "d61cd381-63ad-4ed9-b0be-47a438891028",
      "metadata": {
        "id": "d61cd381-63ad-4ed9-b0be-47a438891028"
      },
      "source": [
        "## Fine-tuning\n",
        "\n",
        "Now we can create our fine-tuning job with the generated files and an optional suffix to identify the model. The response will contain an `id` which you can use to retrieve updates on the job.\n",
        "\n",
        "Note: The files have to first be processed by our system, so you might get a `File not ready` error. In that case, simply retry a few minutes later.\n"
      ]
    },
    {
      "cell_type": "code",
      "execution_count": null,
      "id": "05541ceb-5628-447e-962d-7e57c112439c",
      "metadata": {
        "colab": {
          "base_uri": "https://localhost:8080/"
        },
        "id": "05541ceb-5628-447e-962d-7e57c112439c",
        "outputId": "aeb861ba-8c3b-4e42-d55a-1e74a3ae59bc"
      },
      "outputs": [
        {
          "name": "stdout",
          "output_type": "stream",
          "text": [
            "Job ID: ftjob-XshNsGwmJnQs6a5cRL5wh0gJ\n",
            "Status: validating_files\n"
          ]
        }
      ],
      "source": [
        "response = openai.FineTuningJob.create(\n",
        "    training_file=train_id,\n",
        "    validation_file=val_id,\n",
        "    model=\"gpt-3.5-turbo\",\n",
        "    suffix=\"an assistant\",\n",
        ")\n",
        "\n",
        "job_id = response[\"id\"]\n",
        "\n",
        "print(\"Job ID:\", response[\"id\"])\n",
        "print(\"Status:\", response[\"status\"])"
      ]
    },
    {
      "cell_type": "code",
      "execution_count": null,
      "id": "d7392f48",
      "metadata": {
        "colab": {
          "base_uri": "https://localhost:8080/"
        },
        "id": "d7392f48",
        "outputId": "4abcf215-93ee-43f1-da07-40d51cadb197"
      },
      "outputs": [
        {
          "name": "stdout",
          "output_type": "stream",
          "text": [
            "Job ID: ftjob-XshNsGwmJnQs6a5cRL5wh0gJ\n",
            "Status: succeeded\n",
            "Trained Tokens: 29187\n"
          ]
        }
      ],
      "source": [
        "response = openai.FineTuningJob.retrieve(job_id)\n",
        "\n",
        "print(\"Job ID:\", response[\"id\"])\n",
        "print(\"Status:\", response[\"status\"])\n",
        "print(\"Trained Tokens:\", response[\"trained_tokens\"])\n"
      ]
    },
    {
      "cell_type": "markdown",
      "id": "30a57fbb",
      "metadata": {
        "id": "30a57fbb"
      },
      "source": [
        "We can track the progress of the fine-tune with the events endpoint. You can rerun the cell below a few times until the fine-tune is ready.\n"
      ]
    },
    {
      "cell_type": "code",
      "execution_count": null,
      "id": "08cace28",
      "metadata": {
        "colab": {
          "base_uri": "https://localhost:8080/"
        },
        "id": "08cace28",
        "outputId": "c63d0e1d-2ddb-459b-cb50-e73705b991a6"
      },
      "outputs": [
        {
          "name": "stdout",
          "output_type": "stream",
          "text": [
            "Created fine-tuning job: ftjob-XshNsGwmJnQs6a5cRL5wh0gJ\n",
            "Validating training file: file-UNPf8KlXWpN5eP81GgsxprB5 and validation file: {ft_job.validation_file}\n",
            "Files validated, moving job to queued state\n",
            "Fine-tuning job started\n",
            "Step 1/240: training loss=0.82, validation loss=0.77\n",
            "Step 11/240: training loss=0.82, validation loss=0.70\n",
            "Step 21/240: training loss=0.75, validation loss=0.40\n",
            "Step 31/240: training loss=0.74, validation loss=0.55\n",
            "Step 41/240: training loss=1.23, validation loss=0.40\n",
            "Step 51/240: training loss=0.16, validation loss=0.27\n",
            "Step 61/240: training loss=0.18, validation loss=0.34\n",
            "Step 71/240: training loss=0.16, validation loss=0.37\n",
            "Step 81/240: training loss=0.07, validation loss=0.44\n",
            "Step 91/240: training loss=0.47, validation loss=0.54\n",
            "Step 101/240: training loss=0.39, validation loss=0.31\n",
            "Step 111/240: training loss=0.33, validation loss=0.01\n",
            "Step 121/240: training loss=0.05, validation loss=0.30\n",
            "Step 131/240: training loss=0.13, validation loss=0.06\n",
            "Step 141/240: training loss=0.05, validation loss=0.07\n",
            "Step 151/240: training loss=0.15, validation loss=0.15\n",
            "Step 161/240: training loss=0.25, validation loss=0.34\n",
            "Step 171/240: training loss=0.03, validation loss=0.03\n",
            "Step 181/240: training loss=0.17, validation loss=0.25\n",
            "Step 191/240: training loss=0.01, validation loss=0.10\n",
            "Step 201/240: training loss=0.02, validation loss=0.25\n",
            "Step 211/240: training loss=0.08, validation loss=0.00\n",
            "Step 221/240: training loss=0.01, validation loss=0.26\n",
            "Step 231/240: training loss=0.05, validation loss=0.75\n",
            "New fine-tuned model created: ft:gpt-3.5-turbo-0613:chattech-corp:an-assistant:82xXRmpQ\n",
            "The job has successfully completed\n"
          ]
        }
      ],
      "source": [
        "response = openai.FineTuningJob.list_events(id=job_id, limit=50)\n",
        "\n",
        "events = response[\"data\"]\n",
        "events.reverse()\n",
        "\n",
        "for event in events:\n",
        "    print(event[\"message\"])"
      ]
    },
    {
      "cell_type": "markdown",
      "id": "d0da4e32",
      "metadata": {
        "id": "d0da4e32"
      },
      "source": [
        "Now that it's done, we can get a fine-tuned model ID from the job:\n"
      ]
    },
    {
      "cell_type": "code",
      "execution_count": null,
      "id": "40b28c26",
      "metadata": {
        "colab": {
          "base_uri": "https://localhost:8080/"
        },
        "id": "40b28c26",
        "outputId": "25c124a7-5c6c-47e4-be4f-b328a37bd80c"
      },
      "outputs": [
        {
          "name": "stdout",
          "output_type": "stream",
          "text": [
            "Fine-tuned model ID: ft:gpt-3.5-turbo-0613:chattech-corp:an-assistant:82xXRmpQ\n"
          ]
        }
      ],
      "source": [
        "response = openai.FineTuningJob.retrieve(job_id)\n",
        "fine_tuned_model_id = response[\"fine_tuned_model\"]\n",
        "\n",
        "if fine_tuned_model_id is None:\n",
        "    raise RuntimeError(\"Fine-tuned model ID not found. Your job has likely not been completed yet.\")\n",
        "\n",
        "print(\"Fine-tuned model ID:\", fine_tuned_model_id)"
      ]
    },
    {
      "cell_type": "markdown",
      "id": "0025e392-84cd-4566-a384-ea31ca43e567",
      "metadata": {
        "id": "0025e392-84cd-4566-a384-ea31ca43e567"
      },
      "source": [
        "## Inference"
      ]
    },
    {
      "cell_type": "markdown",
      "id": "0ab9ac11",
      "metadata": {
        "id": "0ab9ac11"
      },
      "source": [
        "The last step is to use your fine-tuned model for inference. Similar to the classic `FineTuning`, you simply call `ChatCompletions` with your new fine-tuned model name filling the `model` parameter.\n"
      ]
    },
    {
      "cell_type": "code",
      "execution_count": null,
      "id": "1c7de631-b68f-4eff-9ae7-051641579c2b",
      "metadata": {
        "id": "1c7de631-b68f-4eff-9ae7-051641579c2b"
      },
      "outputs": [],
      "source": [
        "###### 1 ####\n",
        "#Real-time Data Integration:\n"
      ]
    },
    {
      "cell_type": "code",
      "execution_count": null,
      "id": "-GQTwirbMOnI",
      "metadata": {
        "id": "-GQTwirbMOnI"
      },
      "outputs": [],
      "source": [
        "test_messages = [\n",
        "    {\"role\": \"system\", \"content\": \"You are AI Assistant that tailors vacation plans. Please reply user requests using polite and respectful language.\"},\n",
        "    {\"role\": \"user\", \"content\": \"Find hotels in cairo with availability, my preferred budget is 1000$, the number of guests are 10, 5 star rating, on 29/9/2023.\"}\n",
        "  ]"
      ]
    },
    {
      "cell_type": "code",
      "execution_count": null,
      "id": "1a1d2589",
      "metadata": {
        "colab": {
          "base_uri": "https://localhost:8080/"
        },
        "id": "1a1d2589",
        "outputId": "e0301d95-4124-461b-e953-0c20fd3ef061"
      },
      "outputs": [
        {
          "name": "stdout",
          "output_type": "stream",
          "text": [
            "I'm sorry, but I am unable to browse the internet or check real-time availability. However, you can use online travel agencies or hotel booking websites to find hotels in Cairo that meet your criteria.\n"
          ]
        }
      ],
      "source": [
        "response = openai.ChatCompletion.create(\n",
        "    model=fine_tuned_model_id, messages=test_messages, temperature=0, max_tokens=500\n",
        ")\n",
        "print(response[\"choices\"][0][\"message\"][\"content\"])"
      ]
    },
    {
      "cell_type": "code",
      "execution_count": null,
      "id": "WFFFxmeib-l3",
      "metadata": {
        "id": "WFFFxmeib-l3"
      },
      "outputs": [],
      "source": [
        "test_messages = [\n",
        "    {\"role\": \"system\", \"content\": \"You are AI Assistant that tailors vacation plans. Please reply user requests using polite and respectful language.\"},\n",
        "    {\"role\": \"user\", \"content\": \"Find hotels in cairo with availability, my preferred budget is 1000$, the number of guests are 10, 5 star rating, on 29/9/2023.\"}\n",
        "  ]"
      ]
    },
    {
      "cell_type": "code",
      "execution_count": null,
      "id": "cOkIAHK-KHm8",
      "metadata": {
        "colab": {
          "base_uri": "https://localhost:8080/"
        },
        "id": "cOkIAHK-KHm8",
        "outputId": "4f902de1-d01f-4b1a-d475-2f2916768641"
      },
      "outputs": [
        {
          "name": "stdout",
          "output_type": "stream",
          "text": [
            "Certainly! I'd be happy to help you with that. I have found a few hotels in Cairo that match your criteria. Here are a couple of options:\n",
            "\n",
            "1. Hotel 1: XYZ Hotel\n",
            "   - Rating: 5 stars\n",
            "   - Price: $1000 per night\n",
            "   - Availability: Available on 29/9/2023\n",
            "   - Room capacity: Can accommodate up to 10 guests\n",
            "\n",
            "2. Hotel 2: ABC Hotel\n",
            "   - Rating: 5 stars\n",
            "   - Price: $1000 per night\n",
            "   - Availability: Available on 29/9/2023\n",
            "   - Room capacity: Can accommodate up to 10 guests\n",
            "\n",
            "Please note that the prices provided are an estimate and may vary slightly depending on the specific dates and any additional services you may require. I recommend contacting the hotels directly to confirm availability and make your reservation.\n"
          ]
        }
      ],
      "source": [
        "completion = openai.ChatCompletion.create(\n",
        "  model=\"gpt-3.5-turbo\",\n",
        "  messages=test_messages\n",
        ")\n",
        "print(completion[\"choices\"][0][\"message\"][\"content\"])"
      ]
    },
    {
      "cell_type": "code",
      "execution_count": null,
      "id": "4CtkHxdkKHrg",
      "metadata": {
        "id": "4CtkHxdkKHrg"
      },
      "outputs": [],
      "source": [
        "##### 2 #####\n",
        "#### Complex Query Handling:\n"
      ]
    },
    {
      "cell_type": "code",
      "execution_count": null,
      "id": "dChvyzADKHyQ",
      "metadata": {
        "id": "dChvyzADKHyQ"
      },
      "outputs": [],
      "source": [
        "test_messages = [\n",
        "    {\"role\": \"system\", \"content\": \"You are AI Assistant that tailors vacation plans. Please reply user requests using polite and respectful language.\"},\n",
        "    {\"role\": \"user\", \"content\": \"I want a 4-day trip, blending beach relaxation, historical sites, and a touch of adventure, under $1000, in egypt\"}\n",
        "  ]"
      ]
    },
    {
      "cell_type": "code",
      "execution_count": null,
      "id": "--veikx5KH3V",
      "metadata": {
        "colab": {
          "base_uri": "https://localhost:8080/"
        },
        "id": "--veikx5KH3V",
        "outputId": "c50bc867-3343-414e-f53d-77edae2313de"
      },
      "outputs": [
        {
          "name": "stdout",
          "output_type": "stream",
          "text": [
            "I recommend spending 2 days in Hurghada for beach relaxation and snorkeling, then visiting Luxor for its historical sites like Karnak Temple and the Valley of the Kings. This itinerary should fit your budget, including flights and accommodation.\n"
          ]
        }
      ],
      "source": [
        "completion1= openai.ChatCompletion.create(\n",
        "    model=fine_tuned_model_id, messages=test_messages, temperature=0, max_tokens=500\n",
        ")\n",
        "print(completion1[\"choices\"][0][\"message\"][\"content\"])"
      ]
    },
    {
      "cell_type": "code",
      "execution_count": null,
      "id": "L5b7aW1YKH_D",
      "metadata": {
        "id": "L5b7aW1YKH_D"
      },
      "outputs": [],
      "source": [
        "test_messages = [\n",
        "    {\"role\": \"system\", \"content\": \"You are AI Assistant that tailors vacation plans. Please reply user requests using polite and respectful language.\"},\n",
        "    {\"role\": \"user\", \"content\": \"I want a 4-day trip, blending beach relaxation, historical sites, and a touch of adventure, under $1000, in egypt\"}\n",
        "  ]"
      ]
    },
    {
      "cell_type": "code",
      "execution_count": null,
      "id": "_hlGM5xiMxCO",
      "metadata": {
        "colab": {
          "base_uri": "https://localhost:8080/"
        },
        "id": "_hlGM5xiMxCO",
        "outputId": "4b0f2299-3eb8-43be-fe32-d2869bede03d"
      },
      "outputs": [
        {
          "name": "stdout",
          "output_type": "stream",
          "text": [
            "Certainly! I can help you plan a 4-day trip in Egypt that combines beach relaxation, historical sites, and a touch of adventure within your budget. Here's an itinerary suggestion:\n",
            "\n",
            "Day 1: Arrive in Cairo\n",
            "- Upon arrival at Cairo International Airport, transfer to your hotel.\n",
            "- Take some time to relax and acclimate to the new surroundings.\n",
            "\n",
            "Day 2: Explore Cairo\n",
            "- Start your day with a visit to the iconic Giza Pyramids, including the Great Pyramid of Giza, Sphinx, and the Valley Temple.\n",
            "- In the afternoon, explore the Egyptian Museum to marvel at artifacts from ancient Egypt, including the treasures of Tutankhamun.\n",
            "- Wrap up your day with a visit to Khan El Khalili Bazaar for a taste of traditional shopping and local experiences.\n",
            "\n",
            "Day 3: Hurghada Beach\n",
            "- Transfer to Hurghada, a beautiful coastal city on the Red Sea.\n",
            "- Relax and enjoy the pristine beaches, indulge in water sports activities like snorkeling or scuba diving, or simply unwind under the sun.\n",
            "- If you're feeling adventurous, you can also opt for a desert safari or quad biking experience.\n",
            "\n",
            "Day 4: Luxor Day Trip\n",
            "- Take a day trip from Hurghada to Luxor, known as the \"world's greatest open-air museum.\"\n",
            "- Explore the Valley of the Kings, where ancient Egyptian pharaohs were buried, including Tutankhamun's tomb.\n",
            "- Visit the stunning Karnak Temple Complex and Luxor Temple, both filled with magnificent ancient Egyptian structures and hieroglyphics.\n",
            "- After the tour, transfer back to Hurghada.\n",
            "\n",
            "Please keep in mind that the prices for flights and accommodation may vary based on the time of year and the current promotions. It's always recommended to book in advance to secure the best deals within your budget. Let me know if there's anything else I can assist you with!\n"
          ]
        }
      ],
      "source": [
        "completion2 = openai.ChatCompletion.create(\n",
        "  model=\"gpt-3.5-turbo\",\n",
        "  messages=test_messages\n",
        ")\n",
        "print(completion2[\"choices\"][0][\"message\"][\"content\"])"
      ]
    },
    {
      "cell_type": "code",
      "execution_count": null,
      "id": "f2DefQlsNKY_",
      "metadata": {
        "id": "f2DefQlsNKY_"
      },
      "outputs": [],
      "source": [
        "##### 3 ######\n",
        "#Safety & Local Guidelines:"
      ]
    },
    {
      "cell_type": "code",
      "execution_count": null,
      "id": "NDlRx2ZxNKdN",
      "metadata": {
        "id": "NDlRx2ZxNKdN"
      },
      "outputs": [],
      "source": [
        "test_messages = [\n",
        "    {\"role\": \"system\", \"content\": \"You are AI Assistant that tailors vacation plans. Please reply user requests using polite and respectful language.\"},\n",
        "    {\"role\": \"user\", \"content\": \"Provide safety tips for luxor.\"}\n",
        "  ]"
      ]
    },
    {
      "cell_type": "code",
      "execution_count": null,
      "id": "aEDIkmvPNKhC",
      "metadata": {
        "colab": {
          "base_uri": "https://localhost:8080/"
        },
        "id": "aEDIkmvPNKhC",
        "outputId": "6d5acaae-8db0-44d0-95c0-aaae066f4239"
      },
      "outputs": [
        {
          "name": "stdout",
          "output_type": "stream",
          "text": [
            "While Luxor is generally safe for tourists, it's advisable to take precautions like avoiding isolated areas at night, using licensed taxis, and being aware of your surroundings. It's also recommended to follow any guidance or instructions from local authorities or your tour guide.\n"
          ]
        }
      ],
      "source": [
        "completion5= openai.ChatCompletion.create(\n",
        "    model=fine_tuned_model_id, messages=test_messages, temperature=0, max_tokens=500\n",
        ")\n",
        "print(completion5[\"choices\"][0][\"message\"][\"content\"])"
      ]
    },
    {
      "cell_type": "code",
      "execution_count": null,
      "id": "YMzWoaKVNKlr",
      "metadata": {
        "id": "YMzWoaKVNKlr"
      },
      "outputs": [],
      "source": [
        "test_messages = [\n",
        "    {\"role\": \"system\", \"content\": \"You are AI Assistant that tailors vacation plans. Please reply user requests using polite and respectful language.\"},\n",
        "    {\"role\": \"user\", \"content\": \"Provide safety tips for luxor.\"}\n",
        "  ]"
      ]
    },
    {
      "cell_type": "code",
      "execution_count": null,
      "id": "SjbHfwDwOJey",
      "metadata": {
        "colab": {
          "base_uri": "https://localhost:8080/"
        },
        "id": "SjbHfwDwOJey",
        "outputId": "bc3a59d2-0d97-4691-edf7-4a14c5d32a21"
      },
      "outputs": [
        {
          "name": "stdout",
          "output_type": "stream",
          "text": [
            "Sure! Here are some safety tips for your visit to Luxor:\n",
            "\n",
            "1. Research and plan: Before your trip, take the time to research the local customs, laws, and any travel advisories issued for Luxor. This will help you stay informed about any potential safety concerns.\n",
            "\n",
            "2. Dress appropriately: Luxor is a conservative city, and it is respectful to dress modestly, especially when visiting religious sites. Make sure to cover your shoulders and knees, and avoid wearing revealing or offensive clothing.\n",
            "\n",
            "3. Avoid public displays of wealth: To minimize the risk of theft or attracting unwanted attention, it's advisable to avoid displaying expensive items like jewelry, cameras, or large amounts of cash in public.\n",
            "\n",
            "4. Use reliable transportation: Opt for licensed taxis or arrange transportation through your hotel or a reputable tour operator. Avoid getting into unmarked or unofficial taxis to ensure your safety.\n",
            "\n",
            "5. Be cautious with street vendors: While exploring the local markets, be mindful of your personal belongings and valuables. Some vendors may employ aggressive selling techniques, so it's important to remain assertive but polite. Also, beware of counterfeit goods and negotiate prices reasonably.\n",
            "\n",
            "6. Stay hydrated and protect yourself from the sun: Luxor experiences high temperatures, especially during summer months. It's crucial to stay hydrated, drink bottled water, and use sunscreen and protective clothing to avoid heatstroke or sunburn.\n",
            "\n",
            "7. Follow local customs and laws: Respect the local customs and traditions, including religious practices. Remember to ask for permission before taking photos of people and be aware of any restricted or prohibited areas.\n",
            "\n",
            "8. Stay in well-lit and populated areas: While Luxor is generally safe, it's advisable to stick to well-populated areas and avoid walking alone late at night. If you're unsure about a particular location, consult with your hotel staff or local authorities.\n",
            "\n",
            "Remember, these tips will help enhance your safety, but it's essential to trust your instincts and be aware of your surroundings at all times. Enjoy your trip to Luxor!\n"
          ]
        }
      ],
      "source": [
        "completion6 = openai.ChatCompletion.create(\n",
        "  model=\"gpt-3.5-turbo\",\n",
        "  messages=test_messages\n",
        ")\n",
        "print(completion6[\"choices\"][0][\"message\"][\"content\"])"
      ]
    },
    {
      "cell_type": "code",
      "execution_count": null,
      "id": "F06SuigUOo8E",
      "metadata": {
        "id": "F06SuigUOo8E"
      },
      "outputs": [],
      "source": [
        "##### 3 ######\n",
        "##Safety & Local Guidelines:"
      ]
    },
    {
      "cell_type": "code",
      "execution_count": null,
      "id": "hm_kxZNTOpCo",
      "metadata": {
        "id": "hm_kxZNTOpCo"
      },
      "outputs": [],
      "source": [
        "test_messages = [\n",
        "    {\"role\": \"system\", \"content\": \"You are AI Assistant that tailors vacation plans. Please reply user requests using polite and respectful language.\"},\n",
        "    {\"role\": \"user\", \"content\": \"What are the local customs in new cairo?\"}\n",
        "  ]"
      ]
    },
    {
      "cell_type": "code",
      "execution_count": null,
      "id": "LJqqdRrBOpHG",
      "metadata": {
        "colab": {
          "base_uri": "https://localhost:8080/"
        },
        "id": "LJqqdRrBOpHG",
        "outputId": "732102d3-7922-44ee-fb38-cb464833b93e"
      },
      "outputs": [
        {
          "name": "stdout",
          "output_type": "stream",
          "text": [
            "New Cairo is a modern city in Egypt with diverse cultures. However, it is generally respectful to dress modestly and adhere to Islamic customs.\n"
          ]
        }
      ],
      "source": [
        "completion7= openai.ChatCompletion.create(\n",
        "    model=fine_tuned_model_id, messages=test_messages, temperature=0, max_tokens=500\n",
        ")\n",
        "print(completion7[\"choices\"][0][\"message\"][\"content\"])"
      ]
    },
    {
      "cell_type": "code",
      "execution_count": null,
      "id": "l8O-DzrAOpLh",
      "metadata": {
        "id": "l8O-DzrAOpLh"
      },
      "outputs": [],
      "source": [
        "test_messages = [\n",
        "    {\"role\": \"system\", \"content\": \"You are AI Assistant that tailors vacation plans. Please reply user requests using polite and respectful language.\"},\n",
        "    {\"role\": \"user\", \"content\": \"What are the local customs in new cairo?\"}\n",
        "  ]"
      ]
    },
    {
      "cell_type": "code",
      "execution_count": null,
      "id": "_zlJW0F3OpPh",
      "metadata": {
        "colab": {
          "base_uri": "https://localhost:8080/"
        },
        "id": "_zlJW0F3OpPh",
        "outputId": "56a03c71-8d3f-4baa-c2a8-4edd275a677d"
      },
      "outputs": [
        {
          "name": "stdout",
          "output_type": "stream",
          "text": [
            "In New Cairo, you can expect to encounter a unique blend of customs and traditions. Here are a few local customs that you may want to be aware of:\n",
            "\n",
            "1. Respect for Religion: Egypt is an Islamic country, and therefore, it is important to respect Islamic customs and traditions. Modest attire is appreciated, especially when visiting religious sites.\n",
            "\n",
            "2. Greeting Etiquette: When meeting someone for the first time, a handshake is customary. It is also polite to say \"As-salamu alaykum\" (peace be upon you) as a greeting.\n",
            "\n",
            "3. Punctuality: Egyptians generally have a more relaxed approach to timekeeping, so it is best to be flexible and not expect strict punctuality. However, it is recommended to be on time for formal occasions and business meetings.\n",
            "\n",
            "4. Social Etiquette: Egyptians are known for their warm and hospitable nature. It is common for guests to be greeted with tea or coffee, and it is polite to accept such offers.\n",
            "\n",
            "5. Nonverbal Communication: Nonverbal gestures, such as pointing with fingers, can be considered impolite in Egyptian culture. Instead, it is preferred to use an open hand in a downward direction to indicate something.\n",
            "\n",
            "Remember, immersing yourself in local customs can enhance your travel experience and show respect for the local culture. Enjoy your time in New Cairo!\n"
          ]
        }
      ],
      "source": [
        "completion8 = openai.ChatCompletion.create(\n",
        "  model=\"gpt-3.5-turbo\",\n",
        "  messages=test_messages\n",
        ")\n",
        "print(completion8[\"choices\"][0][\"message\"][\"content\"])"
      ]
    },
    {
      "cell_type": "code",
      "execution_count": null,
      "id": "DPtv-aHnPGti",
      "metadata": {
        "id": "DPtv-aHnPGti"
      },
      "outputs": [],
      "source": [
        "##### 4 #########\n",
        "#Multi-language Support:\n"
      ]
    },
    {
      "cell_type": "code",
      "execution_count": null,
      "id": "ND8mbtVkPG7P",
      "metadata": {
        "id": "ND8mbtVkPG7P"
      },
      "outputs": [],
      "source": [
        "test_messages = [\n",
        "    {\"role\": \"system\", \"content\": \"You are AI Assistant that tailors vacation plans. Please reply user requests using polite and respectful language.\"},\n",
        "    {\"role\": \"user\", \"content\": \"Ich möchte eine 10-tägige Reise mit einer Mischung aus Strandentspannung und historischen Stätten für weniger als 2.000 US-Dollar.\"}\n",
        "  ]"
      ]
    },
    {
      "cell_type": "code",
      "execution_count": null,
      "id": "7QNbm3LNPNwF",
      "metadata": {
        "colab": {
          "base_uri": "https://localhost:8080/"
        },
        "id": "7QNbm3LNPNwF",
        "outputId": "9079740d-3af1-4a8f-8e71-1b97d0bb8af9"
      },
      "outputs": [
        {
          "name": "stdout",
          "output_type": "stream",
          "text": [
            "Wie wäre es mit einer Reise nach Griechenland? Sie können einige Tage auf den schönen Inseln entspannen und dann historische Stätten wie Athen und Delphi besuchen.\n"
          ]
        }
      ],
      "source": [
        "completion9= openai.ChatCompletion.create(\n",
        "    model=fine_tuned_model_id, messages=test_messages, temperature=0, max_tokens=500\n",
        ")\n",
        "print(completion9[\"choices\"][0][\"message\"][\"content\"])"
      ]
    },
    {
      "cell_type": "code",
      "execution_count": null,
      "id": "VmV1RGtsPN00",
      "metadata": {
        "id": "VmV1RGtsPN00"
      },
      "outputs": [],
      "source": [
        "test_messages = [\n",
        "    {\"role\": \"system\", \"content\": \"You are AI Assistant that tailors vacation plans. Please reply user requests using polite and respectful language.\"},\n",
        "    {\"role\": \"user\", \"content\": \"Ich möchte eine 10-tägige Reise mit einer Mischung aus Strandentspannung und historischen Stätten für weniger als 2.000 US-Dollar.\"}\n",
        "  ]"
      ]
    },
    {
      "cell_type": "code",
      "execution_count": null,
      "id": "KVvpAktqPN6S",
      "metadata": {
        "colab": {
          "base_uri": "https://localhost:8080/"
        },
        "id": "KVvpAktqPN6S",
        "outputId": "ea322f91-10ed-4b9b-c88f-c74c19ec1b71"
      },
      "outputs": [
        {
          "name": "stdout",
          "output_type": "stream",
          "text": [
            "Natürlich! Ich kann Ihnen bei der Planung Ihrer 10-tägigen Reise mit einer Mischung aus Strandentspannung und historischen Stätten helfen. Basierend auf Ihrem Budget von weniger als 2.000 US-Dollar können wir verschiedene Optionen erkunden. Welches Reiseziel interessiert Sie?\n"
          ]
        }
      ],
      "source": [
        "completion10= openai.ChatCompletion.create(\n",
        "  model=\"gpt-3.5-turbo\",\n",
        "  messages=test_messages\n",
        ")\n",
        "print(completion10[\"choices\"][0][\"message\"][\"content\"])"
      ]
    },
    {
      "cell_type": "code",
      "execution_count": null,
      "id": "9q_I8LdcPfNA",
      "metadata": {
        "id": "9q_I8LdcPfNA"
      },
      "outputs": [],
      "source": [
        "####### 5 #######\n",
        "#Continuous Feedback Loop:\n"
      ]
    },
    {
      "cell_type": "code",
      "execution_count": null,
      "id": "0tk57juQPfZ4",
      "metadata": {
        "id": "0tk57juQPfZ4"
      },
      "outputs": [],
      "source": [
        "test_messages = [\n",
        "    {\"role\": \"system\", \"content\": \"You are AI Assistant that tailors vacation plans. Please reply user requests using polite and respectful language.\"},\n",
        "    {\"role\": \"user\", \"content\": \"Were the local activities enjoyable in new cairo?\"}\n",
        "  ]"
      ]
    },
    {
      "cell_type": "code",
      "execution_count": null,
      "id": "9I7orICUPrQD",
      "metadata": {
        "colab": {
          "base_uri": "https://localhost:8080/"
        },
        "id": "9I7orICUPrQD",
        "outputId": "f8405c80-6c61-4f3c-c19c-740dceea1daf"
      },
      "outputs": [
        {
          "name": "stdout",
          "output_type": "stream",
          "text": [
            "New Cairo offers a variety of enjoyable activities such as visiting parks, shopping malls, and trying out different restaurants and cafes.\n"
          ]
        }
      ],
      "source": [
        "completion11= openai.ChatCompletion.create(\n",
        "    model=fine_tuned_model_id, messages=test_messages, temperature=0, max_tokens=500\n",
        ")\n",
        "print(completion11[\"choices\"][0][\"message\"][\"content\"])"
      ]
    },
    {
      "cell_type": "code",
      "execution_count": null,
      "id": "BZGLnCyMPrUS",
      "metadata": {
        "id": "BZGLnCyMPrUS"
      },
      "outputs": [],
      "source": [
        "test_messages = [\n",
        "    {\"role\": \"system\", \"content\": \"You are AI Assistant that tailors vacation plans. Please reply user requests using polite and respectful language.\"},\n",
        "    {\"role\": \"user\", \"content\": \"Were the local activities enjoyable in new cairo?\"}\n",
        "  ]"
      ]
    },
    {
      "cell_type": "code",
      "execution_count": null,
      "id": "7SI3D9UkP1bT",
      "metadata": {
        "colab": {
          "base_uri": "https://localhost:8080/"
        },
        "id": "7SI3D9UkP1bT",
        "outputId": "b3af29c6-3bc7-496d-862f-4a0d82f6cb87"
      },
      "outputs": [
        {
          "name": "stdout",
          "output_type": "stream",
          "text": [
            "Yes, most visitors find the local activities in New Cairo quite enjoyable. The city offers a wide range of activities to suit different interests and preferences. From exploring local markets and shopping centers to dining at a variety of restaurants, playing sports at recreational clubs, visiting parks and gardens, or even indulging in spa and wellness treatments, there is something for everyone. Additionally, New Cairo is known for its vibrant nightlife, featuring bars, lounges, and entertainment venues. Whether you are looking for cultural experiences or simply want to unwind and have fun, New Cairo has much to offer.\n"
          ]
        }
      ],
      "source": [
        "completion12= openai.ChatCompletion.create(\n",
        "  model=\"gpt-3.5-turbo\",\n",
        "  messages=test_messages\n",
        ")\n",
        "print(completion12[\"choices\"][0][\"message\"][\"content\"])"
      ]
    },
    {
      "cell_type": "code",
      "execution_count": null,
      "id": "0rDeeU5hPrZH",
      "metadata": {
        "id": "0rDeeU5hPrZH"
      },
      "outputs": [],
      "source": [
        "######## 6 ######\n",
        "#Budgetary Optimization:\n"
      ]
    },
    {
      "cell_type": "code",
      "execution_count": null,
      "id": "aTTrkeSpQGDL",
      "metadata": {
        "id": "aTTrkeSpQGDL"
      },
      "outputs": [],
      "source": [
        "test_messages = [\n",
        "    {\"role\": \"system\", \"content\": \"You are AI Assistant that tailors vacation plans. Please reply user requests using polite and respectful language.\"},\n",
        "    {\"role\": \"user\", \"content\": \"suggest best-value options for accommodations, activities, and dining, with budget 300$, in port said\"}\n",
        "  ]"
      ]
    },
    {
      "cell_type": "code",
      "execution_count": null,
      "id": "k-3-xPsbQKQx",
      "metadata": {
        "colab": {
          "base_uri": "https://localhost:8080/"
        },
        "id": "k-3-xPsbQKQx",
        "outputId": "fea12ae0-a7ff-47e9-ca98-63f46f0d85d1"
      },
      "outputs": [
        {
          "name": "stdout",
          "output_type": "stream",
          "text": [
            "For accommodations, you can consider budget-friendly hotels like Port Said Hotel or Resta Port Said Hotel. As for activities, you can explore the Port Said Lighthouse and visit the Port Said National Museum. For dining, local eateries like El Manara and El Kababgy offer affordable and delicious meals.\n"
          ]
        }
      ],
      "source": [
        "completion13= openai.ChatCompletion.create(\n",
        "    model=fine_tuned_model_id, messages=test_messages, temperature=0, max_tokens=500\n",
        ")\n",
        "print(completion13[\"choices\"][0][\"message\"][\"content\"])"
      ]
    },
    {
      "cell_type": "code",
      "execution_count": null,
      "id": "WOtcIHD5QKcw",
      "metadata": {
        "id": "WOtcIHD5QKcw"
      },
      "outputs": [],
      "source": [
        "test_messages = [\n",
        "    {\"role\": \"system\", \"content\": \"You are AI Assistant that tailors vacation plans. Please reply user requests using polite and respectful language.\"},\n",
        "    {\"role\": \"user\", \"content\": \"suggest best-value options for accommodations, activities and dining, with budget 300$, in port said\"}\n",
        "  ]"
      ]
    },
    {
      "cell_type": "code",
      "execution_count": null,
      "id": "PxzNMJs7QKhu",
      "metadata": {
        "colab": {
          "base_uri": "https://localhost:8080/"
        },
        "id": "PxzNMJs7QKhu",
        "outputId": "a76a3999-48b6-43bc-cbb7-57d84f1a8f41"
      },
      "outputs": [
        {
          "name": "stdout",
          "output_type": "stream",
          "text": [
            "Thank you for reaching out! Port Said offers a variety of options to suit your budget of $300. Here are some suggestions for accommodations, activities, and dining:\n",
            "\n",
            "Accommodations:\n",
            "1. Local guesthouses: Consider staying in local guesthouses or budget-friendly hotels such as Statica Hotel or El Nouzha Hotel.\n",
            "2. Hostels: Look into Port Said Youth Hostel or other budget-friendly hostels which offer affordable dormitory-style accommodations.\n",
            "3. Vacation rentals: Explore platforms like Airbnb or Booking.com to find cozy apartments or studios that fit your budget.\n",
            "\n",
            "Activities:\n",
            "1. Visit Port Said National Museum: Immerse yourself in the history and culture of the city at this museum, which showcases a diverse range of artifacts.\n",
            "2. Explore the Suez Canal: Take a boat tour along the Suez Canal for an up-close view of the impressive ships and containers passing through.\n",
            "3. Wander along the Corniche: Enjoy a leisurely stroll along Port Said's Corniche, offering beautiful views of the Mediterranean Sea and the city's iconic lighthouse.\n",
            "\n",
            "Dining:\n",
            "1. Local street food: Experience the vibrant culinary scene of Port Said by trying affordable street food options such as falafel, koshary, or seafood sandwiches from local vendors.\n",
            "2. Affordable restaurants: Check out restaurants like Al Dabke or El Mehshi, which offer delicious Egyptian cuisine at reasonable prices.\n",
            "3. Cafes and bakeries: Enjoy snacks and pastries from local cafes and bakeries like Aboulfaouz or Al Sultan, where you can savor Egyptian sweets and Middle Eastern treats.\n",
            "\n",
            "Please note that prices may vary, so it's always a good idea to check and compare options in advance. Have a wonderful vacation in Port Said!\n"
          ]
        }
      ],
      "source": [
        "completion14= openai.ChatCompletion.create(\n",
        "  model=\"gpt-3.5-turbo\",\n",
        "  messages=test_messages\n",
        ")\n",
        "print(completion14[\"choices\"][0][\"message\"][\"content\"])"
      ]
    },
    {
      "cell_type": "code",
      "execution_count": null,
      "id": "xhJymQAFQt90",
      "metadata": {
        "id": "xhJymQAFQt90"
      },
      "outputs": [],
      "source": [
        "##### 7 #####\n",
        "#Dynamic Profile Creation:\n"
      ]
    },
    {
      "cell_type": "code",
      "execution_count": null,
      "id": "po0qouWxQqFb",
      "metadata": {
        "id": "po0qouWxQqFb"
      },
      "outputs": [],
      "source": [
        "#capture essential user details and generate an optimized itinerary:"
      ]
    },
    {
      "cell_type": "code",
      "execution_count": null,
      "id": "zXKRMGnwQw5m",
      "metadata": {
        "colab": {
          "base_uri": "https://localhost:8080/"
        },
        "id": "zXKRMGnwQw5m",
        "outputId": "312ca10b-2650-40de-8207-b71969c6eb81"
      },
      "outputs": [
        {
          "name": "stdout",
          "output_type": "stream",
          "text": [
            "Requirement already satisfied: openai in /usr/local/lib/python3.10/dist-packages (0.28.0)\n",
            "Requirement already satisfied: datasets in /usr/local/lib/python3.10/dist-packages (2.14.5)\n",
            "Requirement already satisfied: requests>=2.20 in /usr/local/lib/python3.10/dist-packages (from openai) (2.31.0)\n",
            "Requirement already satisfied: tqdm in /usr/local/lib/python3.10/dist-packages (from openai) (4.66.1)\n",
            "Requirement already satisfied: aiohttp in /usr/local/lib/python3.10/dist-packages (from openai) (3.8.5)\n",
            "Requirement already satisfied: numpy>=1.17 in /usr/local/lib/python3.10/dist-packages (from datasets) (1.23.5)\n",
            "Requirement already satisfied: pyarrow>=8.0.0 in /usr/local/lib/python3.10/dist-packages (from datasets) (9.0.0)\n",
            "Requirement already satisfied: dill<0.3.8,>=0.3.0 in /usr/local/lib/python3.10/dist-packages (from datasets) (0.3.7)\n",
            "Requirement already satisfied: pandas in /usr/local/lib/python3.10/dist-packages (from datasets) (1.5.3)\n",
            "Requirement already satisfied: xxhash in /usr/local/lib/python3.10/dist-packages (from datasets) (3.3.0)\n",
            "Requirement already satisfied: multiprocess in /usr/local/lib/python3.10/dist-packages (from datasets) (0.70.15)\n",
            "Requirement already satisfied: fsspec[http]<2023.9.0,>=2023.1.0 in /usr/local/lib/python3.10/dist-packages (from datasets) (2023.6.0)\n",
            "Requirement already satisfied: huggingface-hub<1.0.0,>=0.14.0 in /usr/local/lib/python3.10/dist-packages (from datasets) (0.17.2)\n",
            "Requirement already satisfied: packaging in /usr/local/lib/python3.10/dist-packages (from datasets) (23.1)\n",
            "Requirement already satisfied: pyyaml>=5.1 in /usr/local/lib/python3.10/dist-packages (from datasets) (6.0.1)\n",
            "Requirement already satisfied: attrs>=17.3.0 in /usr/local/lib/python3.10/dist-packages (from aiohttp->openai) (23.1.0)\n",
            "Requirement already satisfied: charset-normalizer<4.0,>=2.0 in /usr/local/lib/python3.10/dist-packages (from aiohttp->openai) (3.2.0)\n",
            "Requirement already satisfied: multidict<7.0,>=4.5 in /usr/local/lib/python3.10/dist-packages (from aiohttp->openai) (6.0.4)\n",
            "Requirement already satisfied: async-timeout<5.0,>=4.0.0a3 in /usr/local/lib/python3.10/dist-packages (from aiohttp->openai) (4.0.3)\n",
            "Requirement already satisfied: yarl<2.0,>=1.0 in /usr/local/lib/python3.10/dist-packages (from aiohttp->openai) (1.9.2)\n",
            "Requirement already satisfied: frozenlist>=1.1.1 in /usr/local/lib/python3.10/dist-packages (from aiohttp->openai) (1.4.0)\n",
            "Requirement already satisfied: aiosignal>=1.1.2 in /usr/local/lib/python3.10/dist-packages (from aiohttp->openai) (1.3.1)\n",
            "Requirement already satisfied: filelock in /usr/local/lib/python3.10/dist-packages (from huggingface-hub<1.0.0,>=0.14.0->datasets) (3.12.2)\n",
            "Requirement already satisfied: typing-extensions>=3.7.4.3 in /usr/local/lib/python3.10/dist-packages (from huggingface-hub<1.0.0,>=0.14.0->datasets) (4.5.0)\n",
            "Requirement already satisfied: idna<4,>=2.5 in /usr/local/lib/python3.10/dist-packages (from requests>=2.20->openai) (3.4)\n",
            "Requirement already satisfied: urllib3<3,>=1.21.1 in /usr/local/lib/python3.10/dist-packages (from requests>=2.20->openai) (2.0.4)\n",
            "Requirement already satisfied: certifi>=2017.4.17 in /usr/local/lib/python3.10/dist-packages (from requests>=2.20->openai) (2023.7.22)\n",
            "Requirement already satisfied: python-dateutil>=2.8.1 in /usr/local/lib/python3.10/dist-packages (from pandas->datasets) (2.8.2)\n",
            "Requirement already satisfied: pytz>=2020.1 in /usr/local/lib/python3.10/dist-packages (from pandas->datasets) (2023.3.post1)\n",
            "Requirement already satisfied: six>=1.5 in /usr/local/lib/python3.10/dist-packages (from python-dateutil>=2.8.1->pandas->datasets) (1.16.0)\n"
          ]
        }
      ],
      "source": [
        "%pip install openai datasets"
      ]
    },
    {
      "cell_type": "code",
      "execution_count": null,
      "id": "_Dzuql2_Efb3",
      "metadata": {
        "colab": {
          "base_uri": "https://localhost:8080/"
        },
        "id": "_Dzuql2_Efb3",
        "outputId": "b0039f97-069a-4a63-ca0f-ed35c12871c8"
      },
      "outputs": [
        {
          "name": "stdout",
          "output_type": "stream",
          "text": [
            "What is your name?ahmed gomaa\n",
            "What is your age?27\n",
            "What is your gender?male\n",
            "What is your email address? ahmedgomaa44@gmail.com\n",
            "what is your current city?cairo\n",
            "Where have you traveled before?paris\n",
            "What are your interests? (beach, mountains, culture, adventure, etc.)culture\n",
            "Do you have any dietary restrictions?no\n",
            "What is your budget for this trip?3000 egp\n",
            "Here's your optimized itinerary:\n",
            "\n",
            "\n",
            "Day 1:\n",
            "\n",
            "Arrive in Paris and check into your hotel.\n",
            "\n",
            "Spend the morning exploring the city on foot. Visit the Eiffel Tower, the Louvre Museum, and Notre Dame Cathedral.\n",
            "\n",
            "In the afternoon, take a boat ride on the Seine River.\n",
            "\n",
            "In the evening, enjoy a romantic dinner at a charming Parisian café.\n",
            "\n",
            "Day 2:\n",
            "\n",
            "Spend the day touring the Palace of Versailles.\n",
            "\n",
            "In the afternoon, take a leisurely stroll through the gardens of the Tuileries.\n",
            "\n",
            "In the evening, enjoy a delicious French dinner followed by a show at the Moulin Rouge.\n",
            "\n",
            "Day 3:\n",
            "\n",
            "Depart for Cairo and check into your hotel.\n",
            "\n",
            "Spend the day exploring the city, including the Egyptian Museum and the Great Pyramids of Giza.\n",
            "\n",
            "In the evening, enjoy a traditional Egyptian dinner followed by a belly dancing show.\n",
            "\n",
            "Day 4:\n",
            "\n",
            "Spend the day relaxing by the pool or exploring the city on your own.\n",
            "\n",
            "In the evening, enjoy a delicious dinner at a local restaurant.\n",
            "\n",
            "Day 5:\n",
            "\n",
            "Depart for home.\n"
          ]
        }
      ],
      "source": [
        "import openai\n",
        "from datasets import load_dataset\n",
        "\n",
        "openai.api_key = \"API_KEY\"\n",
        "\n",
        "\n",
        "ds = load_dataset(\"thanhnew2001/travel\",split=\"train\")\n",
        "\n",
        "def create_profile():\n",
        "    name = input(\"What is your name?\")\n",
        "    age = input(\"What is your age?\")\n",
        "    gender = input(\"What is your gender?\")\n",
        "    email = input(\"What is your email address?\")\n",
        "    current_city =input(\"what is your current city?\")\n",
        "    travel_history = input(\"Where have you traveled before?\")\n",
        "    interests = input(\"What are your interests? (beach, mountains, culture, adventure, etc.)\")\n",
        "    dietary_restrictions = input(\"Do you have any dietary restrictions?\")\n",
        "    budget = input(\"What is your budget for this trip?\")\n",
        "    return {\n",
        "        \"current_city\":current_city,\n",
        "        \"travel_history\": travel_history,\n",
        "        \"interests\": interests,\n",
        "        \"dietary_restrictions\": dietary_restrictions,\n",
        "        \"budget\": budget\n",
        "    }\n",
        "\n",
        "def generate_itinerary(user_details):\n",
        "    prompt = f\"Generate an optimized itinerary for a {user_details['travel_history']} travel_history that includes, {user_details['current_city']} current_city that includes, {user_details['budget']} budget that includes {user_details['interests']} activities and accommodates {user_details['dietary_restrictions']} dietary restrictions.\"\n",
        "    response = openai.Completion.create(\n",
        "        engine=\"text-davinci-002\",\n",
        "        prompt=prompt,\n",
        "        max_tokens=1024,\n",
        "        n=1,\n",
        "        stop=None,\n",
        "        temperature=0.5,\n",
        "    )\n",
        "    itinerary = response.choices[0].text\n",
        "    return itinerary\n",
        "\n",
        "\n",
        "    filtered_dataset = ds.filter(lambda example: interests in example[\"tags\"] and example[\"price\"] <= budget and dietary_restrictions not in example[\"food\"])\n",
        "    print(filtered_dataset)\n",
        "\n",
        "def main():\n",
        "    user_details = create_profile()\n",
        "    itinerary = generate_itinerary(user_details)\n",
        "    print(\"Here's your optimized itinerary:\")\n",
        "    print(itinerary)\n",
        "\n",
        "if __name__ == \"__main__\":\n",
        "    main()"
      ]
    },
    {
      "cell_type": "code",
      "execution_count": null,
      "id": "gEYIdcElFyKA",
      "metadata": {
        "id": "gEYIdcElFyKA"
      },
      "outputs": [],
      "source": [
        "##### 9 ######\n",
        "# Interactive Itinerary Adjustments:"
      ]
    },
    {
      "cell_type": "code",
      "execution_count": null,
      "id": "n-XqNjyV7KGo",
      "metadata": {
        "colab": {
          "base_uri": "https://localhost:8080/"
        },
        "id": "n-XqNjyV7KGo",
        "outputId": "fe48be91-e092-4a0e-d95b-b8e02778469b"
      },
      "outputs": [
        {
          "name": "stdout",
          "output_type": "stream",
          "text": [
            "Welcome to our travel assistant! How can I help you today?\n",
            "> I want a 4-day trip, blending beach relaxation, historical sites, and a touch of adventure, under $3000, in Paris\n",
            "This is a great trip for anyone who wants to experience a little bit of everything that Paris has to offer. Day 1 can be spent exploring the historical sites of the city, such as the Eiffel Tower, the Louvre, and Notre Dame Cathedral. Day 2 can be spent relaxing at one of the many beaches in the city, such as the Plage de la Concorde or the Plage de la Bastille. Day 3 can be spent exploring the many shops and restaurants in the city, and Day 4 can be spent on an adventure, such as hiking in the nearby forests or visiting one of the many castles in the area.\n",
            "> Suggest a local festival for trip to paris\n",
            "Day 1: Arrive in Paris and check into your hotel. Spend the day exploring the city on your own, perhaps visiting the Eiffel Tower, the Louvre Museum, or Notre Dame Cathedral.\n",
            "\n",
            "Day 2: Take a day trip to the Normandy beaches, where you can explore the history of D-Day and the Battle of Normandy.\n",
            "\n",
            "Day 3: Head to the Palace of Versailles to see the former home of French kings and queens.\n",
            "\n",
            "Day 4: Spend your final day in Paris enjoying some of the city's many parks and gardens, such as the Jardin des Tuileries or the Luxembourg Gardens.\n",
            "> Thank you\n",
            "for your time.\n",
            "\n",
            "Sincerely,\n",
            "\n",
            "[Your Name]\n",
            "\n",
            "[Your Address]\n",
            "\n",
            "[City, State ZIP]\n",
            "\n",
            "[Your Email]\n",
            "> goodbye!\n",
            "The first time I ever heard the phrase “goodbye, my love” was in a song by the Beatles. The song is called “Yesterday” and it is a beautiful ballad about a man who is reminiscing about a lost love. The phrase “goodbye, my love” is used twice in the song, once when the man is saying goodbye to his love and once when he is talking about how much he misses her. It is a sad song, but it is also a very beautiful song.\n"
          ]
        }
      ],
      "source": [
        "import openai\n",
        "\n",
        "openai.api_key = \"API_KEY\"\n",
        "\n",
        "def generate_response(prompt):\n",
        "    response = openai.Completion.create(\n",
        "        engine=\"text-davinci-002\",\n",
        "        prompt=prompt,\n",
        "        max_tokens=1024,\n",
        "        n=1,\n",
        "        stop=None,\n",
        "        temperature=0.5,\n",
        "    )\n",
        "    return response.choices[0].text.strip()\n",
        "\n",
        "def handle_input(user_input):\n",
        "    if \"trip\" in user_input.lower():\n",
        "        prompt = f\"I want a 4-day trip, blending beach relaxation, historical sites, and a touch of adventure, under $3000, in Paris\"\n",
        "        response = generate_response(prompt)\n",
        "        return response\n",
        "    elif \"change\" in user_input.lower():\n",
        "        prompt = f\"Suggest a local festival for trip to paris\"\n",
        "        response = generate_response(prompt)\n",
        "        return response\n",
        "    elif \"thanks\" in user_input.lower() or \"thank you\" in user_input.lower():\n",
        "        prompt = f\"Thank you\"\n",
        "        response = generate_response(prompt)\n",
        "        return response\n",
        "    elif \"bye\" in user_input.lower() or \"goodbye\" in user_input.lower():\n",
        "        prompt = f\"goodbye!\"\n",
        "        response = generate_response(prompt)\n",
        "        return response\n",
        "    else:\n",
        "        prompt = f\"I'm sorry, I didn't understand. Can you please rephrase your request?\"\n",
        "        response = generate_response(prompt)\n",
        "        return response\n",
        "\n",
        "def start_conversation():\n",
        "    print(\"Welcome to our travel assistant! How can I help you today?\")\n",
        "    while True:\n",
        "      user_input = input(\"> \")\n",
        "      response = handle_input(user_input)\n",
        "      print(response)\n",
        "      if \"goodbye\" in user_input.lower() or \"have a great trip\" in response.lower():\n",
        "        break\n",
        "\n",
        "start_conversation()\n"
      ]
    },
    {
      "cell_type": "code",
      "execution_count": null,
      "id": "gpZP89Pknh0o",
      "metadata": {
        "id": "gpZP89Pknh0o"
      },
      "outputs": [],
      "source": [
        "##### 9 ######\n",
        "# Interactive Itinerary Adjustments:\n"
      ]
    },
    {
      "cell_type": "code",
      "execution_count": null,
      "id": "XYCLv-w1gAok",
      "metadata": {
        "colab": {
          "base_uri": "https://localhost:8080/"
        },
        "id": "XYCLv-w1gAok",
        "outputId": "5e5339ad-a144-4ffd-87a1-5468413e20a6"
      },
      "outputs": [
        {
          "name": "stdout",
          "output_type": "stream",
          "text": [
            "Hello! I'm your AI travel assistant. How can I help you plan your trip?\n",
            "Find hotels in cairo with availability, my preferred budget is 1000$, the number of guests are 10, 5 star rating, on 29/9/2023.\n",
            "Hello! I'm your AI travel assistant. How can I help you plan your trip?\n",
            "User: Find hotels in cairo with availability, my preferred budget is 1000$, the number of guests are 10, 5 star rating, on 29/9/2023.\n",
            "AI: Your AI travel assistant found the following hotels in Cairo with availability on 29/9/2023:\n",
            "\n",
            "- The Ritz-Carlton, Cairo: starting at $1,000 per night\n",
            "- The Four Seasons Hotel Cairo at Nile Plaza: starting at $1,000 per night\n",
            "- The Oberoi Cairo: starting at $1,000 per night\n",
            "- The Hilton Cairo Zamalek Residences: starting at $1,000 per night\n",
            "- The Cairo Marriott Hotel & Omar Khayyam Casino: starting at $1,000 per night\n",
            "no budget is 2000$\n",
            "Hello! I'm your AI travel assistant. How can I help you plan your trip?\n",
            "User: Find hotels in cairo with availability, my preferred budget is 1000$, the number of guests are 10, 5 star rating, on 29/9/2023.\n",
            "AI: Your AI travel assistant found the following hotels in Cairo with availability on 29/9/2023:\n",
            "\n",
            "- The Ritz-Carlton, Cairo: starting at $1,000 per night\n",
            "- The Four Seasons Hotel Cairo at Nile Plaza: starting at $1,000 per night\n",
            "- The Oberoi Cairo: starting at $1,000 per night\n",
            "- The Hilton Cairo Zamalek Residences: starting at $1,000 per night\n",
            "- The Cairo Marriott Hotel & Omar Khayyam Casino: starting at $1,000 per night\n",
            "User: no budget is 2000$\n",
            "AI: AI: Your AI travel assistant found the following hotels in Cairo with availability on 29/9/2023:\n",
            "\n",
            "- The Ritz-Carlton, Cairo: starting at $2,000 per night\n",
            "- The Four Seasons Hotel Cairo at Nile Plaza: starting at $2,000 per night\n",
            "- The Oberoi Cairo: starting at $2,000 per night\n",
            "- The Hilton Cairo Zamalek Residences: starting at $2,000 per night\n",
            "- The Cairo Marriott Hotel & Omar Khayyam Casino: starting at $2,000 per night\n",
            "bye\n",
            "AI: Goodbye! Have a great trip!\n"
          ]
        }
      ],
      "source": [
        "import openai\n",
        "import time\n",
        "\n",
        "openai.api_key = \"API_KEY\"\n",
        "\n",
        "def generate_response(prompt):\n",
        "    response = openai.Completion.create(\n",
        "        engine=\"text-davinci-002\",\n",
        "        prompt=prompt,\n",
        "        max_tokens=1024,\n",
        "        n=1,\n",
        "        stop=None,\n",
        "        temperature=0.5,\n",
        "    )\n",
        "    return response.choices[0].text.strip()\n",
        "\n",
        "prompt = \"Hello! I'm your AI travel assistant. How can I help you plan your trip?\"\n",
        "\n",
        "while True:\n",
        "    user_input = input(prompt + \"\\n\")\n",
        "\n",
        "    if user_input.lower() in [\"bye\", \"goodbye\"]:\n",
        "        print(\"AI: Goodbye! Have a great trip!\")\n",
        "        break\n",
        "\n",
        "    prompt += \"\\nUser: \" + user_input\n",
        "\n",
        "    ai_response = generate_response(prompt)\n",
        "\n",
        "    # print(\"AI: \" + ai_response)\n",
        "\n",
        "    prompt += \"\\nAI: \" + ai_response\n",
        "\n",
        "    time.sleep(1)"
      ]
    }
  ],
  "metadata": {
    "colab": {
      "provenance": []
    },
    "kernelspec": {
      "display_name": "Python 3",
      "language": "python",
      "name": "python3"
    },
    "language_info": {
      "codemirror_mode": {
        "name": "ipython",
        "version": 3
      },
      "file_extension": ".py",
      "mimetype": "text/x-python",
      "name": "python",
      "nbconvert_exporter": "python",
      "pygments_lexer": "ipython3",
      "version": "3.9.13"
    },
    "widgets": {
      "application/vnd.jupyter.widget-state+json": {
        "027c64758d47480eb5890c7f7384f0bc": {
          "model_module": "@jupyter-widgets/controls",
          "model_module_version": "1.5.0",
          "model_name": "HBoxModel",
          "state": {
            "_dom_classes": [],
            "_model_module": "@jupyter-widgets/controls",
            "_model_module_version": "1.5.0",
            "_model_name": "HBoxModel",
            "_view_count": null,
            "_view_module": "@jupyter-widgets/controls",
            "_view_module_version": "1.5.0",
            "_view_name": "HBoxView",
            "box_style": "",
            "children": [
              "IPY_MODEL_ef1bfb119d1c4173baa18aa967623679",
              "IPY_MODEL_6e8075322dd64b26a036c521750a705e",
              "IPY_MODEL_726c90fe100a4375acbf3b9ce5b277c0"
            ],
            "layout": "IPY_MODEL_531144341552441c953442f2ecf74d9c"
          }
        },
        "044d74c18f484e9183fdb120bf71a20b": {
          "model_module": "@jupyter-widgets/controls",
          "model_module_version": "1.5.0",
          "model_name": "HTMLModel",
          "state": {
            "_dom_classes": [],
            "_model_module": "@jupyter-widgets/controls",
            "_model_module_version": "1.5.0",
            "_model_name": "HTMLModel",
            "_view_count": null,
            "_view_module": "@jupyter-widgets/controls",
            "_view_module_version": "1.5.0",
            "_view_name": "HTMLView",
            "description": "",
            "description_tooltip": null,
            "layout": "IPY_MODEL_0bb36582ba534e9f84ba39e618b52feb",
            "placeholder": "​",
            "style": "IPY_MODEL_d295fcf4b3284d36b43fb083f95fede8",
            "value": "Extracting data files: 100%"
          }
        },
        "06e7a3b441c94ecbb4c64a237b3eb151": {
          "model_module": "@jupyter-widgets/controls",
          "model_module_version": "1.5.0",
          "model_name": "ProgressStyleModel",
          "state": {
            "_model_module": "@jupyter-widgets/controls",
            "_model_module_version": "1.5.0",
            "_model_name": "ProgressStyleModel",
            "_view_count": null,
            "_view_module": "@jupyter-widgets/base",
            "_view_module_version": "1.2.0",
            "_view_name": "StyleView",
            "bar_color": null,
            "description_width": ""
          }
        },
        "0bb36582ba534e9f84ba39e618b52feb": {
          "model_module": "@jupyter-widgets/base",
          "model_module_version": "1.2.0",
          "model_name": "LayoutModel",
          "state": {
            "_model_module": "@jupyter-widgets/base",
            "_model_module_version": "1.2.0",
            "_model_name": "LayoutModel",
            "_view_count": null,
            "_view_module": "@jupyter-widgets/base",
            "_view_module_version": "1.2.0",
            "_view_name": "LayoutView",
            "align_content": null,
            "align_items": null,
            "align_self": null,
            "border": null,
            "bottom": null,
            "display": null,
            "flex": null,
            "flex_flow": null,
            "grid_area": null,
            "grid_auto_columns": null,
            "grid_auto_flow": null,
            "grid_auto_rows": null,
            "grid_column": null,
            "grid_gap": null,
            "grid_row": null,
            "grid_template_areas": null,
            "grid_template_columns": null,
            "grid_template_rows": null,
            "height": null,
            "justify_content": null,
            "justify_items": null,
            "left": null,
            "margin": null,
            "max_height": null,
            "max_width": null,
            "min_height": null,
            "min_width": null,
            "object_fit": null,
            "object_position": null,
            "order": null,
            "overflow": null,
            "overflow_x": null,
            "overflow_y": null,
            "padding": null,
            "right": null,
            "top": null,
            "visibility": null,
            "width": null
          }
        },
        "1875717b28fb4b388298b5b7065b7701": {
          "model_module": "@jupyter-widgets/controls",
          "model_module_version": "1.5.0",
          "model_name": "HTMLModel",
          "state": {
            "_dom_classes": [],
            "_model_module": "@jupyter-widgets/controls",
            "_model_module_version": "1.5.0",
            "_model_name": "HTMLModel",
            "_view_count": null,
            "_view_module": "@jupyter-widgets/controls",
            "_view_module_version": "1.5.0",
            "_view_name": "HTMLView",
            "description": "",
            "description_tooltip": null,
            "layout": "IPY_MODEL_b3dd006948da499da0808f659e426c05",
            "placeholder": "​",
            "style": "IPY_MODEL_999dd2fe31424908bc8f7e1acdb8b4a2",
            "value": " 103/0 [00:00&lt;00:00, 2621.77 examples/s]"
          }
        },
        "1ae8414db37545a4a648b2d451ad5394": {
          "model_module": "@jupyter-widgets/controls",
          "model_module_version": "1.5.0",
          "model_name": "HTMLModel",
          "state": {
            "_dom_classes": [],
            "_model_module": "@jupyter-widgets/controls",
            "_model_module_version": "1.5.0",
            "_model_name": "HTMLModel",
            "_view_count": null,
            "_view_module": "@jupyter-widgets/controls",
            "_view_module_version": "1.5.0",
            "_view_name": "HTMLView",
            "description": "",
            "description_tooltip": null,
            "layout": "IPY_MODEL_96a0a0ccf015435cb2449a672597d0a1",
            "placeholder": "​",
            "style": "IPY_MODEL_a175fb1dbd51458d84ea06f19cc780a1",
            "value": " 27.7k/27.7k [00:00&lt;00:00, 656kB/s]"
          }
        },
        "268a4259a23443b7912f98f591612047": {
          "model_module": "@jupyter-widgets/base",
          "model_module_version": "1.2.0",
          "model_name": "LayoutModel",
          "state": {
            "_model_module": "@jupyter-widgets/base",
            "_model_module_version": "1.2.0",
            "_model_name": "LayoutModel",
            "_view_count": null,
            "_view_module": "@jupyter-widgets/base",
            "_view_module_version": "1.2.0",
            "_view_name": "LayoutView",
            "align_content": null,
            "align_items": null,
            "align_self": null,
            "border": null,
            "bottom": null,
            "display": null,
            "flex": null,
            "flex_flow": null,
            "grid_area": null,
            "grid_auto_columns": null,
            "grid_auto_flow": null,
            "grid_auto_rows": null,
            "grid_column": null,
            "grid_gap": null,
            "grid_row": null,
            "grid_template_areas": null,
            "grid_template_columns": null,
            "grid_template_rows": null,
            "height": null,
            "justify_content": null,
            "justify_items": null,
            "left": null,
            "margin": null,
            "max_height": null,
            "max_width": null,
            "min_height": null,
            "min_width": null,
            "object_fit": null,
            "object_position": null,
            "order": null,
            "overflow": null,
            "overflow_x": null,
            "overflow_y": null,
            "padding": null,
            "right": null,
            "top": null,
            "visibility": null,
            "width": null
          }
        },
        "3b2139230ab840cf88bfa295d0ae3678": {
          "model_module": "@jupyter-widgets/controls",
          "model_module_version": "1.5.0",
          "model_name": "HBoxModel",
          "state": {
            "_dom_classes": [],
            "_model_module": "@jupyter-widgets/controls",
            "_model_module_version": "1.5.0",
            "_model_name": "HBoxModel",
            "_view_count": null,
            "_view_module": "@jupyter-widgets/controls",
            "_view_module_version": "1.5.0",
            "_view_name": "HBoxView",
            "box_style": "",
            "children": [
              "IPY_MODEL_044d74c18f484e9183fdb120bf71a20b",
              "IPY_MODEL_76bfb2a0e59847d5bff902c5fa8b48ac",
              "IPY_MODEL_e776519e8adf4dd1ab552f1c5f299e19"
            ],
            "layout": "IPY_MODEL_7179d3d8e7ff49e3b6f8cb067f257736"
          }
        },
        "489feeda587c44efa76136ddf7086676": {
          "model_module": "@jupyter-widgets/controls",
          "model_module_version": "1.5.0",
          "model_name": "DescriptionStyleModel",
          "state": {
            "_model_module": "@jupyter-widgets/controls",
            "_model_module_version": "1.5.0",
            "_model_name": "DescriptionStyleModel",
            "_view_count": null,
            "_view_module": "@jupyter-widgets/base",
            "_view_module_version": "1.2.0",
            "_view_name": "StyleView",
            "description_width": ""
          }
        },
        "531144341552441c953442f2ecf74d9c": {
          "model_module": "@jupyter-widgets/base",
          "model_module_version": "1.2.0",
          "model_name": "LayoutModel",
          "state": {
            "_model_module": "@jupyter-widgets/base",
            "_model_module_version": "1.2.0",
            "_model_name": "LayoutModel",
            "_view_count": null,
            "_view_module": "@jupyter-widgets/base",
            "_view_module_version": "1.2.0",
            "_view_name": "LayoutView",
            "align_content": null,
            "align_items": null,
            "align_self": null,
            "border": null,
            "bottom": null,
            "display": null,
            "flex": null,
            "flex_flow": null,
            "grid_area": null,
            "grid_auto_columns": null,
            "grid_auto_flow": null,
            "grid_auto_rows": null,
            "grid_column": null,
            "grid_gap": null,
            "grid_row": null,
            "grid_template_areas": null,
            "grid_template_columns": null,
            "grid_template_rows": null,
            "height": null,
            "justify_content": null,
            "justify_items": null,
            "left": null,
            "margin": null,
            "max_height": null,
            "max_width": null,
            "min_height": null,
            "min_width": null,
            "object_fit": null,
            "object_position": null,
            "order": null,
            "overflow": null,
            "overflow_x": null,
            "overflow_y": null,
            "padding": null,
            "right": null,
            "top": null,
            "visibility": null,
            "width": null
          }
        },
        "5f6776a9e1704eef998ff2463e08f511": {
          "model_module": "@jupyter-widgets/base",
          "model_module_version": "1.2.0",
          "model_name": "LayoutModel",
          "state": {
            "_model_module": "@jupyter-widgets/base",
            "_model_module_version": "1.2.0",
            "_model_name": "LayoutModel",
            "_view_count": null,
            "_view_module": "@jupyter-widgets/base",
            "_view_module_version": "1.2.0",
            "_view_name": "LayoutView",
            "align_content": null,
            "align_items": null,
            "align_self": null,
            "border": null,
            "bottom": null,
            "display": null,
            "flex": null,
            "flex_flow": null,
            "grid_area": null,
            "grid_auto_columns": null,
            "grid_auto_flow": null,
            "grid_auto_rows": null,
            "grid_column": null,
            "grid_gap": null,
            "grid_row": null,
            "grid_template_areas": null,
            "grid_template_columns": null,
            "grid_template_rows": null,
            "height": null,
            "justify_content": null,
            "justify_items": null,
            "left": null,
            "margin": null,
            "max_height": null,
            "max_width": null,
            "min_height": null,
            "min_width": null,
            "object_fit": null,
            "object_position": null,
            "order": null,
            "overflow": null,
            "overflow_x": null,
            "overflow_y": null,
            "padding": null,
            "right": null,
            "top": null,
            "visibility": null,
            "width": null
          }
        },
        "69be1c25e06c48a5b805b1fd748446ec": {
          "model_module": "@jupyter-widgets/controls",
          "model_module_version": "1.5.0",
          "model_name": "DescriptionStyleModel",
          "state": {
            "_model_module": "@jupyter-widgets/controls",
            "_model_module_version": "1.5.0",
            "_model_name": "DescriptionStyleModel",
            "_view_count": null,
            "_view_module": "@jupyter-widgets/base",
            "_view_module_version": "1.2.0",
            "_view_name": "StyleView",
            "description_width": ""
          }
        },
        "6e8075322dd64b26a036c521750a705e": {
          "model_module": "@jupyter-widgets/controls",
          "model_module_version": "1.5.0",
          "model_name": "FloatProgressModel",
          "state": {
            "_dom_classes": [],
            "_model_module": "@jupyter-widgets/controls",
            "_model_module_version": "1.5.0",
            "_model_name": "FloatProgressModel",
            "_view_count": null,
            "_view_module": "@jupyter-widgets/controls",
            "_view_module_version": "1.5.0",
            "_view_name": "ProgressView",
            "bar_style": "success",
            "description": "",
            "description_tooltip": null,
            "layout": "IPY_MODEL_b8733f2a499840ecbb3463ed5a22058e",
            "max": 1,
            "min": 0,
            "orientation": "horizontal",
            "style": "IPY_MODEL_7c0bd08ea6ec44eba35720326a137066",
            "value": 1
          }
        },
        "7179d3d8e7ff49e3b6f8cb067f257736": {
          "model_module": "@jupyter-widgets/base",
          "model_module_version": "1.2.0",
          "model_name": "LayoutModel",
          "state": {
            "_model_module": "@jupyter-widgets/base",
            "_model_module_version": "1.2.0",
            "_model_name": "LayoutModel",
            "_view_count": null,
            "_view_module": "@jupyter-widgets/base",
            "_view_module_version": "1.2.0",
            "_view_name": "LayoutView",
            "align_content": null,
            "align_items": null,
            "align_self": null,
            "border": null,
            "bottom": null,
            "display": null,
            "flex": null,
            "flex_flow": null,
            "grid_area": null,
            "grid_auto_columns": null,
            "grid_auto_flow": null,
            "grid_auto_rows": null,
            "grid_column": null,
            "grid_gap": null,
            "grid_row": null,
            "grid_template_areas": null,
            "grid_template_columns": null,
            "grid_template_rows": null,
            "height": null,
            "justify_content": null,
            "justify_items": null,
            "left": null,
            "margin": null,
            "max_height": null,
            "max_width": null,
            "min_height": null,
            "min_width": null,
            "object_fit": null,
            "object_position": null,
            "order": null,
            "overflow": null,
            "overflow_x": null,
            "overflow_y": null,
            "padding": null,
            "right": null,
            "top": null,
            "visibility": null,
            "width": null
          }
        },
        "726c90fe100a4375acbf3b9ce5b277c0": {
          "model_module": "@jupyter-widgets/controls",
          "model_module_version": "1.5.0",
          "model_name": "HTMLModel",
          "state": {
            "_dom_classes": [],
            "_model_module": "@jupyter-widgets/controls",
            "_model_module_version": "1.5.0",
            "_model_name": "HTMLModel",
            "_view_count": null,
            "_view_module": "@jupyter-widgets/controls",
            "_view_module_version": "1.5.0",
            "_view_name": "HTMLView",
            "description": "",
            "description_tooltip": null,
            "layout": "IPY_MODEL_dd31ee682ae6422e9fe9eaa6a0c09a85",
            "placeholder": "​",
            "style": "IPY_MODEL_848fcd08540344089c361b0e9c556ff7",
            "value": " 1/1 [00:00&lt;00:00, 14.78it/s]"
          }
        },
        "76bfb2a0e59847d5bff902c5fa8b48ac": {
          "model_module": "@jupyter-widgets/controls",
          "model_module_version": "1.5.0",
          "model_name": "FloatProgressModel",
          "state": {
            "_dom_classes": [],
            "_model_module": "@jupyter-widgets/controls",
            "_model_module_version": "1.5.0",
            "_model_name": "FloatProgressModel",
            "_view_count": null,
            "_view_module": "@jupyter-widgets/controls",
            "_view_module_version": "1.5.0",
            "_view_name": "ProgressView",
            "bar_style": "success",
            "description": "",
            "description_tooltip": null,
            "layout": "IPY_MODEL_5f6776a9e1704eef998ff2463e08f511",
            "max": 1,
            "min": 0,
            "orientation": "horizontal",
            "style": "IPY_MODEL_d634376cc7f64f148644012acc5e47b4",
            "value": 1
          }
        },
        "7bbba6ddde6f4b219cd2c5efb72ed828": {
          "model_module": "@jupyter-widgets/controls",
          "model_module_version": "1.5.0",
          "model_name": "HTMLModel",
          "state": {
            "_dom_classes": [],
            "_model_module": "@jupyter-widgets/controls",
            "_model_module_version": "1.5.0",
            "_model_name": "HTMLModel",
            "_view_count": null,
            "_view_module": "@jupyter-widgets/controls",
            "_view_module_version": "1.5.0",
            "_view_name": "HTMLView",
            "description": "",
            "description_tooltip": null,
            "layout": "IPY_MODEL_b62b7f68c71c491f82eeb1e306b16ee4",
            "placeholder": "​",
            "style": "IPY_MODEL_ecd0e2c1d84e4e60b493c8b84e0ce479",
            "value": "Downloading data: 100%"
          }
        },
        "7c0bd08ea6ec44eba35720326a137066": {
          "model_module": "@jupyter-widgets/controls",
          "model_module_version": "1.5.0",
          "model_name": "ProgressStyleModel",
          "state": {
            "_model_module": "@jupyter-widgets/controls",
            "_model_module_version": "1.5.0",
            "_model_name": "ProgressStyleModel",
            "_view_count": null,
            "_view_module": "@jupyter-widgets/base",
            "_view_module_version": "1.2.0",
            "_view_name": "StyleView",
            "bar_color": null,
            "description_width": ""
          }
        },
        "8475b6ff2c62464596bce1b290093ac9": {
          "model_module": "@jupyter-widgets/base",
          "model_module_version": "1.2.0",
          "model_name": "LayoutModel",
          "state": {
            "_model_module": "@jupyter-widgets/base",
            "_model_module_version": "1.2.0",
            "_model_name": "LayoutModel",
            "_view_count": null,
            "_view_module": "@jupyter-widgets/base",
            "_view_module_version": "1.2.0",
            "_view_name": "LayoutView",
            "align_content": null,
            "align_items": null,
            "align_self": null,
            "border": null,
            "bottom": null,
            "display": null,
            "flex": null,
            "flex_flow": null,
            "grid_area": null,
            "grid_auto_columns": null,
            "grid_auto_flow": null,
            "grid_auto_rows": null,
            "grid_column": null,
            "grid_gap": null,
            "grid_row": null,
            "grid_template_areas": null,
            "grid_template_columns": null,
            "grid_template_rows": null,
            "height": null,
            "justify_content": null,
            "justify_items": null,
            "left": null,
            "margin": null,
            "max_height": null,
            "max_width": null,
            "min_height": null,
            "min_width": null,
            "object_fit": null,
            "object_position": null,
            "order": null,
            "overflow": null,
            "overflow_x": null,
            "overflow_y": null,
            "padding": null,
            "right": null,
            "top": null,
            "visibility": null,
            "width": "20px"
          }
        },
        "848fcd08540344089c361b0e9c556ff7": {
          "model_module": "@jupyter-widgets/controls",
          "model_module_version": "1.5.0",
          "model_name": "DescriptionStyleModel",
          "state": {
            "_model_module": "@jupyter-widgets/controls",
            "_model_module_version": "1.5.0",
            "_model_name": "DescriptionStyleModel",
            "_view_count": null,
            "_view_module": "@jupyter-widgets/base",
            "_view_module_version": "1.2.0",
            "_view_name": "StyleView",
            "description_width": ""
          }
        },
        "96a0a0ccf015435cb2449a672597d0a1": {
          "model_module": "@jupyter-widgets/base",
          "model_module_version": "1.2.0",
          "model_name": "LayoutModel",
          "state": {
            "_model_module": "@jupyter-widgets/base",
            "_model_module_version": "1.2.0",
            "_model_name": "LayoutModel",
            "_view_count": null,
            "_view_module": "@jupyter-widgets/base",
            "_view_module_version": "1.2.0",
            "_view_name": "LayoutView",
            "align_content": null,
            "align_items": null,
            "align_self": null,
            "border": null,
            "bottom": null,
            "display": null,
            "flex": null,
            "flex_flow": null,
            "grid_area": null,
            "grid_auto_columns": null,
            "grid_auto_flow": null,
            "grid_auto_rows": null,
            "grid_column": null,
            "grid_gap": null,
            "grid_row": null,
            "grid_template_areas": null,
            "grid_template_columns": null,
            "grid_template_rows": null,
            "height": null,
            "justify_content": null,
            "justify_items": null,
            "left": null,
            "margin": null,
            "max_height": null,
            "max_width": null,
            "min_height": null,
            "min_width": null,
            "object_fit": null,
            "object_position": null,
            "order": null,
            "overflow": null,
            "overflow_x": null,
            "overflow_y": null,
            "padding": null,
            "right": null,
            "top": null,
            "visibility": null,
            "width": null
          }
        },
        "999dd2fe31424908bc8f7e1acdb8b4a2": {
          "model_module": "@jupyter-widgets/controls",
          "model_module_version": "1.5.0",
          "model_name": "DescriptionStyleModel",
          "state": {
            "_model_module": "@jupyter-widgets/controls",
            "_model_module_version": "1.5.0",
            "_model_name": "DescriptionStyleModel",
            "_view_count": null,
            "_view_module": "@jupyter-widgets/base",
            "_view_module_version": "1.2.0",
            "_view_name": "StyleView",
            "description_width": ""
          }
        },
        "9adc2409bc2c4ec399ca82a871ba099b": {
          "model_module": "@jupyter-widgets/base",
          "model_module_version": "1.2.0",
          "model_name": "LayoutModel",
          "state": {
            "_model_module": "@jupyter-widgets/base",
            "_model_module_version": "1.2.0",
            "_model_name": "LayoutModel",
            "_view_count": null,
            "_view_module": "@jupyter-widgets/base",
            "_view_module_version": "1.2.0",
            "_view_name": "LayoutView",
            "align_content": null,
            "align_items": null,
            "align_self": null,
            "border": null,
            "bottom": null,
            "display": null,
            "flex": null,
            "flex_flow": null,
            "grid_area": null,
            "grid_auto_columns": null,
            "grid_auto_flow": null,
            "grid_auto_rows": null,
            "grid_column": null,
            "grid_gap": null,
            "grid_row": null,
            "grid_template_areas": null,
            "grid_template_columns": null,
            "grid_template_rows": null,
            "height": null,
            "justify_content": null,
            "justify_items": null,
            "left": null,
            "margin": null,
            "max_height": null,
            "max_width": null,
            "min_height": null,
            "min_width": null,
            "object_fit": null,
            "object_position": null,
            "order": null,
            "overflow": null,
            "overflow_x": null,
            "overflow_y": null,
            "padding": null,
            "right": null,
            "top": null,
            "visibility": null,
            "width": null
          }
        },
        "9fa5eec2c99944bf816933dae2408829": {
          "model_module": "@jupyter-widgets/controls",
          "model_module_version": "1.5.0",
          "model_name": "FloatProgressModel",
          "state": {
            "_dom_classes": [],
            "_model_module": "@jupyter-widgets/controls",
            "_model_module_version": "1.5.0",
            "_model_name": "FloatProgressModel",
            "_view_count": null,
            "_view_module": "@jupyter-widgets/controls",
            "_view_module_version": "1.5.0",
            "_view_name": "ProgressView",
            "bar_style": "success",
            "description": "",
            "description_tooltip": null,
            "layout": "IPY_MODEL_8475b6ff2c62464596bce1b290093ac9",
            "max": 1,
            "min": 0,
            "orientation": "horizontal",
            "style": "IPY_MODEL_aa3fc171f8af48c8bf8ce4109a4cbb1b",
            "value": 1
          }
        },
        "a175fb1dbd51458d84ea06f19cc780a1": {
          "model_module": "@jupyter-widgets/controls",
          "model_module_version": "1.5.0",
          "model_name": "DescriptionStyleModel",
          "state": {
            "_model_module": "@jupyter-widgets/controls",
            "_model_module_version": "1.5.0",
            "_model_name": "DescriptionStyleModel",
            "_view_count": null,
            "_view_module": "@jupyter-widgets/base",
            "_view_module_version": "1.2.0",
            "_view_name": "StyleView",
            "description_width": ""
          }
        },
        "a67044cac5f54bb1989321c6898e42e1": {
          "model_module": "@jupyter-widgets/base",
          "model_module_version": "1.2.0",
          "model_name": "LayoutModel",
          "state": {
            "_model_module": "@jupyter-widgets/base",
            "_model_module_version": "1.2.0",
            "_model_name": "LayoutModel",
            "_view_count": null,
            "_view_module": "@jupyter-widgets/base",
            "_view_module_version": "1.2.0",
            "_view_name": "LayoutView",
            "align_content": null,
            "align_items": null,
            "align_self": null,
            "border": null,
            "bottom": null,
            "display": null,
            "flex": null,
            "flex_flow": null,
            "grid_area": null,
            "grid_auto_columns": null,
            "grid_auto_flow": null,
            "grid_auto_rows": null,
            "grid_column": null,
            "grid_gap": null,
            "grid_row": null,
            "grid_template_areas": null,
            "grid_template_columns": null,
            "grid_template_rows": null,
            "height": null,
            "justify_content": null,
            "justify_items": null,
            "left": null,
            "margin": null,
            "max_height": null,
            "max_width": null,
            "min_height": null,
            "min_width": null,
            "object_fit": null,
            "object_position": null,
            "order": null,
            "overflow": null,
            "overflow_x": null,
            "overflow_y": null,
            "padding": null,
            "right": null,
            "top": null,
            "visibility": null,
            "width": null
          }
        },
        "aa3fc171f8af48c8bf8ce4109a4cbb1b": {
          "model_module": "@jupyter-widgets/controls",
          "model_module_version": "1.5.0",
          "model_name": "ProgressStyleModel",
          "state": {
            "_model_module": "@jupyter-widgets/controls",
            "_model_module_version": "1.5.0",
            "_model_name": "ProgressStyleModel",
            "_view_count": null,
            "_view_module": "@jupyter-widgets/base",
            "_view_module_version": "1.2.0",
            "_view_name": "StyleView",
            "bar_color": null,
            "description_width": ""
          }
        },
        "b3cc887b175847e6be4f62de2ebf9422": {
          "model_module": "@jupyter-widgets/base",
          "model_module_version": "1.2.0",
          "model_name": "LayoutModel",
          "state": {
            "_model_module": "@jupyter-widgets/base",
            "_model_module_version": "1.2.0",
            "_model_name": "LayoutModel",
            "_view_count": null,
            "_view_module": "@jupyter-widgets/base",
            "_view_module_version": "1.2.0",
            "_view_name": "LayoutView",
            "align_content": null,
            "align_items": null,
            "align_self": null,
            "border": null,
            "bottom": null,
            "display": null,
            "flex": null,
            "flex_flow": null,
            "grid_area": null,
            "grid_auto_columns": null,
            "grid_auto_flow": null,
            "grid_auto_rows": null,
            "grid_column": null,
            "grid_gap": null,
            "grid_row": null,
            "grid_template_areas": null,
            "grid_template_columns": null,
            "grid_template_rows": null,
            "height": null,
            "justify_content": null,
            "justify_items": null,
            "left": null,
            "margin": null,
            "max_height": null,
            "max_width": null,
            "min_height": null,
            "min_width": null,
            "object_fit": null,
            "object_position": null,
            "order": null,
            "overflow": null,
            "overflow_x": null,
            "overflow_y": null,
            "padding": null,
            "right": null,
            "top": null,
            "visibility": null,
            "width": null
          }
        },
        "b3dd006948da499da0808f659e426c05": {
          "model_module": "@jupyter-widgets/base",
          "model_module_version": "1.2.0",
          "model_name": "LayoutModel",
          "state": {
            "_model_module": "@jupyter-widgets/base",
            "_model_module_version": "1.2.0",
            "_model_name": "LayoutModel",
            "_view_count": null,
            "_view_module": "@jupyter-widgets/base",
            "_view_module_version": "1.2.0",
            "_view_name": "LayoutView",
            "align_content": null,
            "align_items": null,
            "align_self": null,
            "border": null,
            "bottom": null,
            "display": null,
            "flex": null,
            "flex_flow": null,
            "grid_area": null,
            "grid_auto_columns": null,
            "grid_auto_flow": null,
            "grid_auto_rows": null,
            "grid_column": null,
            "grid_gap": null,
            "grid_row": null,
            "grid_template_areas": null,
            "grid_template_columns": null,
            "grid_template_rows": null,
            "height": null,
            "justify_content": null,
            "justify_items": null,
            "left": null,
            "margin": null,
            "max_height": null,
            "max_width": null,
            "min_height": null,
            "min_width": null,
            "object_fit": null,
            "object_position": null,
            "order": null,
            "overflow": null,
            "overflow_x": null,
            "overflow_y": null,
            "padding": null,
            "right": null,
            "top": null,
            "visibility": null,
            "width": null
          }
        },
        "b62b7f68c71c491f82eeb1e306b16ee4": {
          "model_module": "@jupyter-widgets/base",
          "model_module_version": "1.2.0",
          "model_name": "LayoutModel",
          "state": {
            "_model_module": "@jupyter-widgets/base",
            "_model_module_version": "1.2.0",
            "_model_name": "LayoutModel",
            "_view_count": null,
            "_view_module": "@jupyter-widgets/base",
            "_view_module_version": "1.2.0",
            "_view_name": "LayoutView",
            "align_content": null,
            "align_items": null,
            "align_self": null,
            "border": null,
            "bottom": null,
            "display": null,
            "flex": null,
            "flex_flow": null,
            "grid_area": null,
            "grid_auto_columns": null,
            "grid_auto_flow": null,
            "grid_auto_rows": null,
            "grid_column": null,
            "grid_gap": null,
            "grid_row": null,
            "grid_template_areas": null,
            "grid_template_columns": null,
            "grid_template_rows": null,
            "height": null,
            "justify_content": null,
            "justify_items": null,
            "left": null,
            "margin": null,
            "max_height": null,
            "max_width": null,
            "min_height": null,
            "min_width": null,
            "object_fit": null,
            "object_position": null,
            "order": null,
            "overflow": null,
            "overflow_x": null,
            "overflow_y": null,
            "padding": null,
            "right": null,
            "top": null,
            "visibility": null,
            "width": null
          }
        },
        "b8733f2a499840ecbb3463ed5a22058e": {
          "model_module": "@jupyter-widgets/base",
          "model_module_version": "1.2.0",
          "model_name": "LayoutModel",
          "state": {
            "_model_module": "@jupyter-widgets/base",
            "_model_module_version": "1.2.0",
            "_model_name": "LayoutModel",
            "_view_count": null,
            "_view_module": "@jupyter-widgets/base",
            "_view_module_version": "1.2.0",
            "_view_name": "LayoutView",
            "align_content": null,
            "align_items": null,
            "align_self": null,
            "border": null,
            "bottom": null,
            "display": null,
            "flex": null,
            "flex_flow": null,
            "grid_area": null,
            "grid_auto_columns": null,
            "grid_auto_flow": null,
            "grid_auto_rows": null,
            "grid_column": null,
            "grid_gap": null,
            "grid_row": null,
            "grid_template_areas": null,
            "grid_template_columns": null,
            "grid_template_rows": null,
            "height": null,
            "justify_content": null,
            "justify_items": null,
            "left": null,
            "margin": null,
            "max_height": null,
            "max_width": null,
            "min_height": null,
            "min_width": null,
            "object_fit": null,
            "object_position": null,
            "order": null,
            "overflow": null,
            "overflow_x": null,
            "overflow_y": null,
            "padding": null,
            "right": null,
            "top": null,
            "visibility": null,
            "width": null
          }
        },
        "bf6cd62e1fa149e4891fea38b36ffae8": {
          "model_module": "@jupyter-widgets/controls",
          "model_module_version": "1.5.0",
          "model_name": "FloatProgressModel",
          "state": {
            "_dom_classes": [],
            "_model_module": "@jupyter-widgets/controls",
            "_model_module_version": "1.5.0",
            "_model_name": "FloatProgressModel",
            "_view_count": null,
            "_view_module": "@jupyter-widgets/controls",
            "_view_module_version": "1.5.0",
            "_view_name": "ProgressView",
            "bar_style": "success",
            "description": "",
            "description_tooltip": null,
            "layout": "IPY_MODEL_b3cc887b175847e6be4f62de2ebf9422",
            "max": 27716,
            "min": 0,
            "orientation": "horizontal",
            "style": "IPY_MODEL_06e7a3b441c94ecbb4c64a237b3eb151",
            "value": 27716
          }
        },
        "c128f05d5e4f4a32b81e4ac2c4bcc979": {
          "model_module": "@jupyter-widgets/base",
          "model_module_version": "1.2.0",
          "model_name": "LayoutModel",
          "state": {
            "_model_module": "@jupyter-widgets/base",
            "_model_module_version": "1.2.0",
            "_model_name": "LayoutModel",
            "_view_count": null,
            "_view_module": "@jupyter-widgets/base",
            "_view_module_version": "1.2.0",
            "_view_name": "LayoutView",
            "align_content": null,
            "align_items": null,
            "align_self": null,
            "border": null,
            "bottom": null,
            "display": null,
            "flex": null,
            "flex_flow": null,
            "grid_area": null,
            "grid_auto_columns": null,
            "grid_auto_flow": null,
            "grid_auto_rows": null,
            "grid_column": null,
            "grid_gap": null,
            "grid_row": null,
            "grid_template_areas": null,
            "grid_template_columns": null,
            "grid_template_rows": null,
            "height": null,
            "justify_content": null,
            "justify_items": null,
            "left": null,
            "margin": null,
            "max_height": null,
            "max_width": null,
            "min_height": null,
            "min_width": null,
            "object_fit": null,
            "object_position": null,
            "order": null,
            "overflow": null,
            "overflow_x": null,
            "overflow_y": null,
            "padding": null,
            "right": null,
            "top": null,
            "visibility": null,
            "width": null
          }
        },
        "cf1c28709388492ab87566c9ffc1c05b": {
          "model_module": "@jupyter-widgets/controls",
          "model_module_version": "1.5.0",
          "model_name": "DescriptionStyleModel",
          "state": {
            "_model_module": "@jupyter-widgets/controls",
            "_model_module_version": "1.5.0",
            "_model_name": "DescriptionStyleModel",
            "_view_count": null,
            "_view_module": "@jupyter-widgets/base",
            "_view_module_version": "1.2.0",
            "_view_name": "StyleView",
            "description_width": ""
          }
        },
        "d295fcf4b3284d36b43fb083f95fede8": {
          "model_module": "@jupyter-widgets/controls",
          "model_module_version": "1.5.0",
          "model_name": "DescriptionStyleModel",
          "state": {
            "_model_module": "@jupyter-widgets/controls",
            "_model_module_version": "1.5.0",
            "_model_name": "DescriptionStyleModel",
            "_view_count": null,
            "_view_module": "@jupyter-widgets/base",
            "_view_module_version": "1.2.0",
            "_view_name": "StyleView",
            "description_width": ""
          }
        },
        "d634376cc7f64f148644012acc5e47b4": {
          "model_module": "@jupyter-widgets/controls",
          "model_module_version": "1.5.0",
          "model_name": "ProgressStyleModel",
          "state": {
            "_model_module": "@jupyter-widgets/controls",
            "_model_module_version": "1.5.0",
            "_model_name": "ProgressStyleModel",
            "_view_count": null,
            "_view_module": "@jupyter-widgets/base",
            "_view_module_version": "1.2.0",
            "_view_name": "StyleView",
            "bar_color": null,
            "description_width": ""
          }
        },
        "d69dc1589ba64c8ea15051f80d39ed35": {
          "model_module": "@jupyter-widgets/controls",
          "model_module_version": "1.5.0",
          "model_name": "HBoxModel",
          "state": {
            "_dom_classes": [],
            "_model_module": "@jupyter-widgets/controls",
            "_model_module_version": "1.5.0",
            "_model_name": "HBoxModel",
            "_view_count": null,
            "_view_module": "@jupyter-widgets/controls",
            "_view_module_version": "1.5.0",
            "_view_name": "HBoxView",
            "box_style": "",
            "children": [
              "IPY_MODEL_7bbba6ddde6f4b219cd2c5efb72ed828",
              "IPY_MODEL_bf6cd62e1fa149e4891fea38b36ffae8",
              "IPY_MODEL_1ae8414db37545a4a648b2d451ad5394"
            ],
            "layout": "IPY_MODEL_a67044cac5f54bb1989321c6898e42e1"
          }
        },
        "dd31ee682ae6422e9fe9eaa6a0c09a85": {
          "model_module": "@jupyter-widgets/base",
          "model_module_version": "1.2.0",
          "model_name": "LayoutModel",
          "state": {
            "_model_module": "@jupyter-widgets/base",
            "_model_module_version": "1.2.0",
            "_model_name": "LayoutModel",
            "_view_count": null,
            "_view_module": "@jupyter-widgets/base",
            "_view_module_version": "1.2.0",
            "_view_name": "LayoutView",
            "align_content": null,
            "align_items": null,
            "align_self": null,
            "border": null,
            "bottom": null,
            "display": null,
            "flex": null,
            "flex_flow": null,
            "grid_area": null,
            "grid_auto_columns": null,
            "grid_auto_flow": null,
            "grid_auto_rows": null,
            "grid_column": null,
            "grid_gap": null,
            "grid_row": null,
            "grid_template_areas": null,
            "grid_template_columns": null,
            "grid_template_rows": null,
            "height": null,
            "justify_content": null,
            "justify_items": null,
            "left": null,
            "margin": null,
            "max_height": null,
            "max_width": null,
            "min_height": null,
            "min_width": null,
            "object_fit": null,
            "object_position": null,
            "order": null,
            "overflow": null,
            "overflow_x": null,
            "overflow_y": null,
            "padding": null,
            "right": null,
            "top": null,
            "visibility": null,
            "width": null
          }
        },
        "e776519e8adf4dd1ab552f1c5f299e19": {
          "model_module": "@jupyter-widgets/controls",
          "model_module_version": "1.5.0",
          "model_name": "HTMLModel",
          "state": {
            "_dom_classes": [],
            "_model_module": "@jupyter-widgets/controls",
            "_model_module_version": "1.5.0",
            "_model_name": "HTMLModel",
            "_view_count": null,
            "_view_module": "@jupyter-widgets/controls",
            "_view_module_version": "1.5.0",
            "_view_name": "HTMLView",
            "description": "",
            "description_tooltip": null,
            "layout": "IPY_MODEL_c128f05d5e4f4a32b81e4ac2c4bcc979",
            "placeholder": "​",
            "style": "IPY_MODEL_489feeda587c44efa76136ddf7086676",
            "value": " 1/1 [00:00&lt;00:00, 50.13it/s]"
          }
        },
        "ecd0e2c1d84e4e60b493c8b84e0ce479": {
          "model_module": "@jupyter-widgets/controls",
          "model_module_version": "1.5.0",
          "model_name": "DescriptionStyleModel",
          "state": {
            "_model_module": "@jupyter-widgets/controls",
            "_model_module_version": "1.5.0",
            "_model_name": "DescriptionStyleModel",
            "_view_count": null,
            "_view_module": "@jupyter-widgets/base",
            "_view_module_version": "1.2.0",
            "_view_name": "StyleView",
            "description_width": ""
          }
        },
        "ef1bfb119d1c4173baa18aa967623679": {
          "model_module": "@jupyter-widgets/controls",
          "model_module_version": "1.5.0",
          "model_name": "HTMLModel",
          "state": {
            "_dom_classes": [],
            "_model_module": "@jupyter-widgets/controls",
            "_model_module_version": "1.5.0",
            "_model_name": "HTMLModel",
            "_view_count": null,
            "_view_module": "@jupyter-widgets/controls",
            "_view_module_version": "1.5.0",
            "_view_name": "HTMLView",
            "description": "",
            "description_tooltip": null,
            "layout": "IPY_MODEL_268a4259a23443b7912f98f591612047",
            "placeholder": "​",
            "style": "IPY_MODEL_cf1c28709388492ab87566c9ffc1c05b",
            "value": "Downloading data files: 100%"
          }
        },
        "eff7d5dffb184f1d9d33fa0e09311728": {
          "model_module": "@jupyter-widgets/controls",
          "model_module_version": "1.5.0",
          "model_name": "HBoxModel",
          "state": {
            "_dom_classes": [],
            "_model_module": "@jupyter-widgets/controls",
            "_model_module_version": "1.5.0",
            "_model_name": "HBoxModel",
            "_view_count": null,
            "_view_module": "@jupyter-widgets/controls",
            "_view_module_version": "1.5.0",
            "_view_name": "HBoxView",
            "box_style": "",
            "children": [
              "IPY_MODEL_feb4bbfb3c4d43c6a0b4fa163fe9d590",
              "IPY_MODEL_9fa5eec2c99944bf816933dae2408829",
              "IPY_MODEL_1875717b28fb4b388298b5b7065b7701"
            ],
            "layout": "IPY_MODEL_9adc2409bc2c4ec399ca82a871ba099b"
          }
        },
        "f1676223284b493c9b33b8a92ea0d75e": {
          "model_module": "@jupyter-widgets/base",
          "model_module_version": "1.2.0",
          "model_name": "LayoutModel",
          "state": {
            "_model_module": "@jupyter-widgets/base",
            "_model_module_version": "1.2.0",
            "_model_name": "LayoutModel",
            "_view_count": null,
            "_view_module": "@jupyter-widgets/base",
            "_view_module_version": "1.2.0",
            "_view_name": "LayoutView",
            "align_content": null,
            "align_items": null,
            "align_self": null,
            "border": null,
            "bottom": null,
            "display": null,
            "flex": null,
            "flex_flow": null,
            "grid_area": null,
            "grid_auto_columns": null,
            "grid_auto_flow": null,
            "grid_auto_rows": null,
            "grid_column": null,
            "grid_gap": null,
            "grid_row": null,
            "grid_template_areas": null,
            "grid_template_columns": null,
            "grid_template_rows": null,
            "height": null,
            "justify_content": null,
            "justify_items": null,
            "left": null,
            "margin": null,
            "max_height": null,
            "max_width": null,
            "min_height": null,
            "min_width": null,
            "object_fit": null,
            "object_position": null,
            "order": null,
            "overflow": null,
            "overflow_x": null,
            "overflow_y": null,
            "padding": null,
            "right": null,
            "top": null,
            "visibility": null,
            "width": null
          }
        },
        "feb4bbfb3c4d43c6a0b4fa163fe9d590": {
          "model_module": "@jupyter-widgets/controls",
          "model_module_version": "1.5.0",
          "model_name": "HTMLModel",
          "state": {
            "_dom_classes": [],
            "_model_module": "@jupyter-widgets/controls",
            "_model_module_version": "1.5.0",
            "_model_name": "HTMLModel",
            "_view_count": null,
            "_view_module": "@jupyter-widgets/controls",
            "_view_module_version": "1.5.0",
            "_view_name": "HTMLView",
            "description": "",
            "description_tooltip": null,
            "layout": "IPY_MODEL_f1676223284b493c9b33b8a92ea0d75e",
            "placeholder": "​",
            "style": "IPY_MODEL_69be1c25e06c48a5b805b1fd748446ec",
            "value": "Generating train split: "
          }
        }
      }
    }
  },
  "nbformat": 4,
  "nbformat_minor": 5
}
